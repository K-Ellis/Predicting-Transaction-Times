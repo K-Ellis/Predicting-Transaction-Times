{
 "cells": [
  {
   "cell_type": "code",
   "execution_count": 57,
   "metadata": {
    "collapsed": false
   },
   "outputs": [
    {
     "data": {
      "text/html": [
       "<div>\n",
       "<style>\n",
       "    .dataframe thead tr:only-child th {\n",
       "        text-align: right;\n",
       "    }\n",
       "\n",
       "    .dataframe thead th {\n",
       "        text-align: left;\n",
       "    }\n",
       "\n",
       "    .dataframe tbody tr th {\n",
       "        vertical-align: top;\n",
       "    }\n",
       "</style>\n",
       "<table border=\"1\" class=\"dataframe\">\n",
       "  <thead>\n",
       "    <tr style=\"text-align: right;\">\n",
       "      <th></th>\n",
       "      <th>TimeTaken</th>\n",
       "      <th>Cases_created_within_past_8_hours</th>\n",
       "      <th>Cases_resolved_within_past_8_hours</th>\n",
       "      <th>Concurrent_open_cases</th>\n",
       "      <th>Created_On</th>\n",
       "      <th>Created_on_Weekend</th>\n",
       "      <th>ResolvedDate</th>\n",
       "      <th>Seconds_left_Day</th>\n",
       "      <th>Seconds_left_Month</th>\n",
       "      <th>Seconds_left_Qtr</th>\n",
       "      <th>Seconds_left_Year</th>\n",
       "    </tr>\n",
       "  </thead>\n",
       "  <tbody>\n",
       "    <tr>\n",
       "      <th>0</th>\n",
       "      <td>1131077.0</td>\n",
       "      <td>11</td>\n",
       "      <td>1</td>\n",
       "      <td>26</td>\n",
       "      <td>2017-03-12 19:49:25</td>\n",
       "      <td>1</td>\n",
       "      <td>2017-03-25 22:00:42</td>\n",
       "      <td>76235</td>\n",
       "      <td>1685435</td>\n",
       "      <td>1685435</td>\n",
       "      <td>9547835</td>\n",
       "    </tr>\n",
       "    <tr>\n",
       "      <th>1</th>\n",
       "      <td>447459.0</td>\n",
       "      <td>8</td>\n",
       "      <td>1</td>\n",
       "      <td>279</td>\n",
       "      <td>2017-03-12 21:30:11</td>\n",
       "      <td>1</td>\n",
       "      <td>2017-03-18 01:47:50</td>\n",
       "      <td>70189</td>\n",
       "      <td>1679389</td>\n",
       "      <td>1679389</td>\n",
       "      <td>9541789</td>\n",
       "    </tr>\n",
       "    <tr>\n",
       "      <th>2</th>\n",
       "      <td>25474.0</td>\n",
       "      <td>6</td>\n",
       "      <td>1</td>\n",
       "      <td>315</td>\n",
       "      <td>2017-03-13 00:08:21</td>\n",
       "      <td>1</td>\n",
       "      <td>2017-03-13 07:12:55</td>\n",
       "      <td>60699</td>\n",
       "      <td>1669899</td>\n",
       "      <td>1669899</td>\n",
       "      <td>9532299</td>\n",
       "    </tr>\n",
       "    <tr>\n",
       "      <th>3</th>\n",
       "      <td>777526.0</td>\n",
       "      <td>10</td>\n",
       "      <td>5</td>\n",
       "      <td>146</td>\n",
       "      <td>2017-03-13 02:49:57</td>\n",
       "      <td>1</td>\n",
       "      <td>2017-03-22 02:48:43</td>\n",
       "      <td>51003</td>\n",
       "      <td>1660203</td>\n",
       "      <td>1660203</td>\n",
       "      <td>9522603</td>\n",
       "    </tr>\n",
       "    <tr>\n",
       "      <th>4</th>\n",
       "      <td>622610.0</td>\n",
       "      <td>12</td>\n",
       "      <td>7</td>\n",
       "      <td>247</td>\n",
       "      <td>2017-03-13 03:26:43</td>\n",
       "      <td>1</td>\n",
       "      <td>2017-03-20 08:23:33</td>\n",
       "      <td>48797</td>\n",
       "      <td>1657997</td>\n",
       "      <td>1657997</td>\n",
       "      <td>9520397</td>\n",
       "    </tr>\n",
       "  </tbody>\n",
       "</table>\n",
       "</div>"
      ],
      "text/plain": [
       "   TimeTaken  Cases_created_within_past_8_hours  \\\n",
       "0  1131077.0                                 11   \n",
       "1   447459.0                                  8   \n",
       "2    25474.0                                  6   \n",
       "3   777526.0                                 10   \n",
       "4   622610.0                                 12   \n",
       "\n",
       "   Cases_resolved_within_past_8_hours  Concurrent_open_cases  \\\n",
       "0                                   1                     26   \n",
       "1                                   1                    279   \n",
       "2                                   1                    315   \n",
       "3                                   5                    146   \n",
       "4                                   7                    247   \n",
       "\n",
       "            Created_On  Created_on_Weekend         ResolvedDate  \\\n",
       "0  2017-03-12 19:49:25                   1  2017-03-25 22:00:42   \n",
       "1  2017-03-12 21:30:11                   1  2017-03-18 01:47:50   \n",
       "2  2017-03-13 00:08:21                   1  2017-03-13 07:12:55   \n",
       "3  2017-03-13 02:49:57                   1  2017-03-22 02:48:43   \n",
       "4  2017-03-13 03:26:43                   1  2017-03-20 08:23:33   \n",
       "\n",
       "   Seconds_left_Day  Seconds_left_Month  Seconds_left_Qtr  Seconds_left_Year  \n",
       "0             76235             1685435           1685435            9547835  \n",
       "1             70189             1679389           1679389            9541789  \n",
       "2             60699             1669899           1669899            9532299  \n",
       "3             51003             1660203           1660203            9522603  \n",
       "4             48797             1657997           1657997            9520397  "
      ]
     },
     "execution_count": 57,
     "metadata": {},
     "output_type": "execute_result"
    }
   ],
   "source": [
    "from sklearn.preprocessing import StandardScaler\n",
    "from sklearn.model_selection import train_test_split\n",
    "from sklearn.linear_model import LinearRegression\n",
    "import pandas as pd\n",
    "df = pd.read_csv(\"../../../Data/min_COC_CC4_CR4_SLD_SLM_SLQ_SLY_COW_C_R.csv\")\n",
    "df.head()"
   ]
  },
  {
   "cell_type": "code",
   "execution_count": 67,
   "metadata": {
    "collapsed": false
   },
   "outputs": [
    {
     "name": "stdout",
     "output_type": "stream",
     "text": [
      "[-1240.64886344 -1568.17259613]\n",
      "RMSE =  255734.257404\n",
      "R2 =  0.613129537361\n",
      "[[ -6.62792713 -39.08728867]]\n"
     ]
    }
   ],
   "source": [
    "y = df[\"TimeTaken\"]\n",
    "X = df[[\"Concurrent_open_cases\", \"Cases_resolved_within_past_8_hours\"]]\n",
    "X_train, X_test, y_train, y_test = train_test_split(X, y, random_state=1)\n",
    "regr.fit(X_train, y_train)\n",
    "print(regr.coef_)\n",
    "print(\"RMSE = \", np.sqrt(np.mean((regr.predict(X_test)-y_test)**2))) # RMSE\n",
    "print(\"R2 = \", regr.score(X_test, y_test)) # R2\n",
    "\n",
    "scalerX = StandardScaler().fit(X)\n",
    "# scalery = StandardScaler().fit(y.values.reshape(-1,1)) # Have to reshape to avoid warnings\n",
    "normed_coefs = scalerX.transform(regr.coef_.reshape(1,-1))\n",
    "print(normed_coefs)"
   ]
  },
  {
   "cell_type": "code",
   "execution_count": 82,
   "metadata": {
    "collapsed": false
   },
   "outputs": [
    {
     "name": "stdout",
     "output_type": "stream",
     "text": [
      "-6.627927128518841\n",
      "-39.08728866954685\n"
     ]
    }
   ],
   "source": [
    "mean1 = np.mean(X[\"Concurrent_open_cases\"])\n",
    "std1 = np.std(X[\"Concurrent_open_cases\"])\n",
    "print((-1240.64886344 - mean1) / std1)\n",
    "\n",
    "mean1 = np.mean(X[\"Cases_resolved_within_past_8_hours\"])\n",
    "std1 = np.std(X[\"Cases_resolved_within_past_8_hours\"])\n",
    "print((-1568.17259613 - mean1) / std1)"
   ]
  },
  {
   "cell_type": "code",
   "execution_count": 83,
   "metadata": {
    "collapsed": false,
    "scrolled": true
   },
   "outputs": [
    {
     "name": "stdout",
     "output_type": "stream",
     "text": [
      "[[-1.16602337 -6.14969646]]\n"
     ]
    }
   ],
   "source": [
    "from sklearn.preprocessing import MinMaxScaler\n",
    "\n",
    "minmaxscalerX = MinMaxScaler().fit(X)\n",
    "minmaxscale_coefs = minmaxscalerX.transform(regr.coef_.reshape(1,-1))\n",
    "print(minmaxscale_coefs)"
   ]
  },
  {
   "cell_type": "code",
   "execution_count": 115,
   "metadata": {
    "collapsed": false,
    "scrolled": false
   },
   "outputs": [
    {
     "name": "stdout",
     "output_type": "stream",
     "text": [
      "                              Columns  Importances  Absolute_Importances\n",
      "1  Cases_resolved_within_past_8_hours   -39.087289             39.087289\n",
      "0               Concurrent_open_cases    -6.627927              6.627927\n"
     ]
    }
   ],
   "source": [
    "def regression_coef_importances(regr, X, k, algpath, d, out_file, alg_initials):\n",
    "    scalerX = StandardScaler().fit(X)\n",
    "    # scalery = StandardScaler().fit(y.values.reshape(-1,1)) # Have to reshape to avoid warnings\n",
    "    normed_coefs = scalerX.transform(regr.coef_.reshape(1,-1))\n",
    "    normed_coefs_list = normed_coefs.tolist()[0]\n",
    "    dfimportances = pd.DataFrame()\n",
    "    dfimportances[\"Columns\"] = X.columns.tolist()\n",
    "    dfimportances[\"Importances\"] = normed_coefs_list\n",
    "    dfimportances[\"Absolute_Importances\"] = abs(dfimportances[\"Importances\"])\n",
    "    dfimportances = dfimportances.sort_values(\"Absolute_Importances\", ascending=False)\n",
    "    if d[\"export_importances_csv\"] == \"y\":\n",
    "        dfimportances.to_csv(algpath + \"importances.csv\", index=False)\n",
    "    print(dfimportances)\n",
    "    \n",
    "    print(\"Feature Importances:\")\n",
    "    out_file.write(\"\\nFeature Importances:\\n\")\n",
    "    for i, (col, importance) in enumerate(zip(dfimportances[\"Columns\"].values.tolist(), dfimportances[\n",
    "        \"Importances\"].values.tolist())):\n",
    "        out_file.write(\"\\t%d. \\\"%s\\\" (%f)\\n\" % (i+1, col, importance))\n",
    "        print(\"\\t%d. \\\"%s\\\" (%f)\" % (i+1, col, importance))\n",
    "\n",
    "    \n",
    "    if d[\"export_df_with_top_k_csv\"] == \"y\":\n",
    "        df_top = return_new_top_k_df(df, dfimportances, int(d[\"top_k_features\"]))\n",
    "        df_top.to_csv(\"%s%s_%s_top_%s.csv\" % (d[\"input_location\"],d[\"input_file\"], alg_initials, d[\"top_k_features\"]), index=False)\n",
    "# #     X.columns, \"Columns\", \n",
    "#     print(dfimportances)\n",
    "#     print()\n",
    "#     for col, normed_coef in zip(X.columns, normed_coefs_list):\n",
    "#         print(col, normed_coef)\n",
    "\n",
    "return_regression_coef_importances(regr, X, 5)"
   ]
  }
 ],
 "metadata": {
  "kernelspec": {
   "display_name": "Python 3",
   "language": "python",
   "name": "python3"
  },
  "language_info": {
   "codemirror_mode": {
    "name": "ipython",
    "version": 3
   },
   "file_extension": ".py",
   "mimetype": "text/x-python",
   "name": "python",
   "nbconvert_exporter": "python",
   "pygments_lexer": "ipython3",
   "version": "3.5.2"
  }
 },
 "nbformat": 4,
 "nbformat_minor": 0
}
