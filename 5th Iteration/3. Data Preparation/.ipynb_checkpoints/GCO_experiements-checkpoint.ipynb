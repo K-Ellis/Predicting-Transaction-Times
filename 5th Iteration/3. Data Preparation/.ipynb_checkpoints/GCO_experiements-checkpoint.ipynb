{
 "cells": [
  {
   "cell_type": "code",
   "execution_count": 3,
   "metadata": {
    "collapsed": true
   },
   "outputs": [],
   "source": [
    "import pandas as pd\n",
    "import matplotlib.pyplot as plt\n",
    "%matplotlib inline\n",
    "from pandas.tseries.offsets import BDay\n",
    "from pandas.tseries.offsets import MonthEnd\n",
    "import datetime"
   ]
  },
  {
   "cell_type": "code",
   "execution_count": 2,
   "metadata": {
    "collapsed": true
   },
   "outputs": [],
   "source": [
    "dfincident = pd.read_csv(\"../../../Data/vw_Incident.csv\",encoding='latin-1',low_memory=False)\n",
    "dfincident[\"Created_On\"] = pd.to_datetime(dfincident[\"Created_On\"])\n",
    "# dfincident[\"CasesWithin8hours\"] = 0\n",
    "# from sklearn.utils import resample\n",
    "# dfincident = resample(dfincident, n_samples=100, random_state=1)"
   ]
  },
  {
   "cell_type": "code",
   "execution_count": 4,
   "metadata": {
    "collapsed": false
   },
   "outputs": [
    {
     "name": "stdout",
     "output_type": "stream",
     "text": [
      "28\n"
     ]
    },
    {
     "data": {
      "text/plain": [
       "0    2017-02-23\n",
       "1    2017-02-24\n",
       "2    2017-02-27\n",
       "3    2017-02-28\n",
       "4    2017-03-28\n",
       "5    2017-03-29\n",
       "6    2017-03-30\n",
       "7    2017-03-31\n",
       "8    2017-04-25\n",
       "9    2017-04-26\n",
       "10   2017-04-27\n",
       "11   2017-04-28\n",
       "12   2017-05-26\n",
       "13   2017-05-29\n",
       "14   2017-05-30\n",
       "15   2017-05-31\n",
       "16   2017-06-27\n",
       "17   2017-06-28\n",
       "18   2017-06-29\n",
       "19   2017-06-30\n",
       "Name: Last_4_BDays, dtype: datetime64[ns]"
      ]
     },
     "execution_count": 4,
     "metadata": {},
     "output_type": "execute_result"
    }
   ],
   "source": [
    "start = pd.datetime(2017, 2, 1)\n",
    "end = pd.datetime(2017, 7, 1)\n",
    "end_of_months = pd.date_range(start, end, freq='BM')\n",
    "\n",
    "last_bdayslist = []\n",
    "for end_of_month in end_of_months:\n",
    "    last_bdayslist += pd.bdate_range(end_of_month- BDay(3),end_of_month- BDay(0))\n",
    "\n",
    "dflast_bdays = pd.DataFrame(last_bdayslist, columns=[\"Last_4_BDays\"])\n",
    "dflast_bdays[\"Last_4_BDays\"]"
   ]
  },
  {
   "cell_type": "code",
   "execution_count": 137,
   "metadata": {
    "collapsed": true
   },
   "outputs": [],
   "source": []
  },
  {
   "cell_type": "code",
   "execution_count": 188,
   "metadata": {
    "collapsed": false,
    "scrolled": true
   },
   "outputs": [
    {
     "name": "stdout",
     "output_type": "stream",
     "text": [
      "100\n",
      "0     2017-02-23\n",
      "1     2017-02-24\n",
      "2     2017-02-27\n",
      "3     2017-02-28\n",
      "4     2017-03-28\n",
      "5     2017-03-29\n",
      "6     2017-03-30\n",
      "7     2017-03-31\n",
      "8     2017-04-25\n",
      "9     2017-04-26\n",
      "10    2017-04-27\n",
      "11    2017-04-28\n",
      "12    2017-05-26\n",
      "13    2017-05-29\n",
      "14    2017-05-30\n",
      "15    2017-05-31\n",
      "16    2017-06-27\n",
      "17    2017-06-28\n",
      "18    2017-06-29\n",
      "19    2017-06-30\n",
      "Name: Last_4_BDays_String, dtype: object\n",
      "2017-06-07\n",
      "2017-04-10\n",
      "2017-02-13\n",
      "2017-04-04\n",
      "2017-03-27\n",
      "2017-03-02\n",
      "2017-05-25\n",
      "2017-03-16\n",
      "2017-05-11\n",
      "2017-06-08\n",
      "2017-03-09\n",
      "2017-04-19\n",
      "2017-05-08\n",
      "2017-03-03\n",
      "2017-05-10\n",
      "2017-02-06\n",
      "2017-04-21\n",
      "2017-04-19\n",
      "2017-04-13\n",
      "2017-04-21\n",
      "2017-03-22\n",
      "2017-05-15\n",
      "2017-03-21\n",
      "2017-04-17\n",
      "2017-05-25\n",
      "2017-02-15\n",
      "2017-02-07\n",
      "2017-04-29\n",
      "2017-02-14\n",
      "2017-04-21\n",
      "2017-04-15\n",
      "2017-06-07\n",
      "2017-04-07\n",
      "2017-05-11\n",
      "2017-03-23\n",
      "2017-06-06\n",
      "2017-03-07\n",
      "2017-05-09\n",
      "2017-04-17\n",
      "2017-03-23\n",
      "2017-04-13\n",
      "2017-04-11\n",
      "2017-06-09\n",
      "2017-03-16\n",
      "2017-04-04\n",
      "2017-03-16\n",
      "2017-05-17\n",
      "2017-04-10\n",
      "2017-05-27\n",
      "2017-05-15\n",
      "2017-03-27\n",
      "2017-04-13\n",
      "2017-03-09\n",
      "2017-03-22\n",
      "2017-04-04\n",
      "2017-03-09\n",
      "2017-03-21\n",
      "2017-06-01\n",
      "2017-04-18\n",
      "2017-03-07\n",
      "2017-04-17\n",
      "2017-05-18\n",
      "2017-02-14\n",
      "2017-02-15\n",
      "2017-06-09\n",
      "2017-06-21\n",
      "2017-04-18\n",
      "2017-05-15\n",
      "2017-03-09\n",
      "2017-05-11\n",
      "2017-06-22\n",
      "2017-03-10\n",
      "2017-04-19\n",
      "2017-02-15\n",
      "2017-04-18\n",
      "2017-04-07\n",
      "2017-06-12\n",
      "2017-05-15\n",
      "2017-03-23\n",
      "2017-02-15\n",
      "2017-05-15\n",
      "2017-06-08\n",
      "2017-03-16\n",
      "2017-06-06\n",
      "2017-03-08\n",
      "2017-03-16\n",
      "2017-03-07\n",
      "2017-04-10\n",
      "2017-03-22\n",
      "2017-05-15\n",
      "2017-06-07\n",
      "2017-04-10\n",
      "0\n",
      "8\n"
     ]
    }
   ],
   "source": [
    "# last_bdays = dflast_bdays[\"Last_4_BDays\"].tolist()\n",
    "i=0\n",
    "print(len(dfincident))\n",
    "dfincident_trimmed = dfincident.copy()\n",
    "\n",
    "dflast_bdays[\"Last_4_BDays_String\"] = dflast_bdays[\"Last_4_BDays\"].map(lambda x: x.strftime('%Y-%m-%d'))\n",
    "dfincident_trimmed[\"Created_On_String\"] = dfincident_trimmed[\"Created_On\"].map(lambda x: x.strftime('%Y-%m-%d'))\n",
    "\n",
    "for date in dfincident_trimmed[\"Created_On_String\"]:\n",
    "    if date not in dflast_bdays[\"Last_4_BDays_String\"].values:\n",
    "        print(date)\n",
    "        dfincident_trimmed = dfincident_trimmed[dfincident_trimmed[\"Created_On_String\"] != date]\n",
    "\n",
    "print(i)\n",
    "print(len(dfincident_trimmed))\n",
    "# print(dfincident_trimmed[\"Created_On\"])"
   ]
  },
  {
   "cell_type": "code",
   "execution_count": 148,
   "metadata": {
    "collapsed": false
   },
   "outputs": [
    {
     "data": {
      "text/plain": [
       "600000"
      ]
     },
     "execution_count": 148,
     "metadata": {},
     "output_type": "execute_result"
    }
   ],
   "source": [
    "20*30000"
   ]
  }
 ],
 "metadata": {
  "kernelspec": {
   "display_name": "Python 3",
   "language": "python",
   "name": "python3"
  },
  "language_info": {
   "codemirror_mode": {
    "name": "ipython",
    "version": 3
   },
   "file_extension": ".py",
   "mimetype": "text/x-python",
   "name": "python",
   "nbconvert_exporter": "python",
   "pygments_lexer": "ipython3",
   "version": "3.5.2"
  }
 },
 "nbformat": 4,
 "nbformat_minor": 1
}
