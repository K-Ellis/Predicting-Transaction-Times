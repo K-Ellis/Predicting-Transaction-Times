{
 "cells": [
  {
   "cell_type": "code",
   "execution_count": 3,
   "metadata": {
    "collapsed": true
   },
   "outputs": [],
   "source": [
    "import pandas as pd\n",
    "import numpy as np\n",
    "import datetime\n",
    "import time\n",
    "from calendar import monthrange\n",
    "from pprint import pprint"
   ]
  },
  {
   "cell_type": "code",
   "execution_count": 4,
   "metadata": {
    "collapsed": true
   },
   "outputs": [],
   "source": [
    "df = pd.read_csv(\"../../../Data/vw_Incident.csv\",encoding='latin-1',low_memory=False)"
   ]
  },
  {
   "cell_type": "code",
   "execution_count": 5,
   "metadata": {
    "collapsed": false
   },
   "outputs": [],
   "source": [
    "from sklearn.utils import resample\n",
    "df = resample(df, n_samples=10, random_state=1234)"
   ]
  },
  {
   "cell_type": "code",
   "execution_count": 16,
   "metadata": {
    "collapsed": false
   },
   "outputs": [
    {
     "data": {
      "text/plain": [
       "7"
      ]
     },
     "execution_count": 16,
     "metadata": {},
     "output_type": "execute_result"
    }
   ],
   "source": [
    "24-17"
   ]
  },
  {
   "cell_type": "code",
   "execution_count": 50,
   "metadata": {
    "collapsed": false
   },
   "outputs": [
    {
     "ename": "NameError",
     "evalue": "name 'BDay' is not defined",
     "output_type": "error",
     "traceback": [
      "\u001b[1;31m---------------------------------------------------------------------------\u001b[0m",
      "\u001b[1;31mNameError\u001b[0m                                 Traceback (most recent call last)",
      "\u001b[1;32m<ipython-input-50-f453acc0fccd>\u001b[0m in \u001b[0;36m<module>\u001b[1;34m()\u001b[0m\n\u001b[0;32m     20\u001b[0m     \u001b[0mprint\u001b[0m\u001b[1;33m(\u001b[0m\u001b[0mend_month\u001b[0m \u001b[1;33m-\u001b[0m \u001b[0mstart_month\u001b[0m\u001b[1;33m)\u001b[0m\u001b[1;33m\u001b[0m\u001b[0m\n\u001b[0;32m     21\u001b[0m \u001b[0mlast_bdays_months\u001b[0m \u001b[1;33m=\u001b[0m \u001b[0mget_last_bdays_months\u001b[0m\u001b[1;33m(\u001b[0m\u001b[1;33m)\u001b[0m\u001b[1;33m\u001b[0m\u001b[0m\n\u001b[1;32m---> 22\u001b[1;33m \u001b[0mlast_3_bdays\u001b[0m \u001b[1;33m=\u001b[0m \u001b[0mget_last_3_bdays_cutoffs\u001b[0m\u001b[1;33m(\u001b[0m\u001b[0mlast_bdays_months\u001b[0m\u001b[1;33m)\u001b[0m\u001b[1;33m\u001b[0m\u001b[0m\n\u001b[0m\u001b[0;32m     23\u001b[0m \u001b[0mdays_of_the_month_cutoffs\u001b[0m\u001b[1;33m(\u001b[0m\u001b[0mdf\u001b[0m\u001b[1;33m,\u001b[0m \u001b[0mlast_bdays_months\u001b[0m\u001b[1;33m,\u001b[0m \u001b[0mlast_3_bdays\u001b[0m\u001b[1;33m)\u001b[0m\u001b[1;33m\u001b[0m\u001b[0m\n",
      "\u001b[1;32m<ipython-input-50-f453acc0fccd>\u001b[0m in \u001b[0;36mget_last_3_bdays_cutoffs\u001b[1;34m(last_bdays)\u001b[0m\n\u001b[0;32m      9\u001b[0m     \u001b[0mlast_bdays_offset\u001b[0m \u001b[1;33m=\u001b[0m \u001b[1;33m[\u001b[0m\u001b[1;33m]\u001b[0m\u001b[1;33m\u001b[0m\u001b[0m\n\u001b[0;32m     10\u001b[0m     \u001b[1;32mfor\u001b[0m \u001b[0mlast_bday\u001b[0m \u001b[1;32min\u001b[0m \u001b[0mlast_bdays\u001b[0m\u001b[1;33m:\u001b[0m\u001b[1;33m\u001b[0m\u001b[0m\n\u001b[1;32m---> 11\u001b[1;33m         \u001b[0msecond_last\u001b[0m \u001b[1;33m=\u001b[0m \u001b[1;33m(\u001b[0m\u001b[0mlast_bday\u001b[0m \u001b[1;33m-\u001b[0m \u001b[1;36m2\u001b[0m \u001b[1;33m*\u001b[0m \u001b[0mpd\u001b[0m\u001b[1;33m.\u001b[0m\u001b[0mDateOffset\u001b[0m\u001b[1;33m(\u001b[0m\u001b[0mBDay\u001b[0m\u001b[1;33m)\u001b[0m\u001b[1;33m)\u001b[0m\u001b[1;33m.\u001b[0m\u001b[0mnormalize\u001b[0m\u001b[1;33m(\u001b[0m\u001b[1;33m)\u001b[0m \u001b[1;33m+\u001b[0m\u001b[0mpd\u001b[0m\u001b[1;33m.\u001b[0m\u001b[0moffset\u001b[0m\u001b[1;33m(\u001b[0m\u001b[0mhours\u001b[0m\u001b[1;33m=\u001b[0m\u001b[1;36m11\u001b[0m\u001b[1;33m)\u001b[0m\u001b[1;33m\u001b[0m\u001b[0m\n\u001b[0m\u001b[0;32m     12\u001b[0m         \u001b[0mthird_last\u001b[0m \u001b[1;33m=\u001b[0m \u001b[1;33m(\u001b[0m\u001b[0mlast_bday\u001b[0m \u001b[1;33m-\u001b[0m \u001b[0mBDay\u001b[0m\u001b[1;33m)\u001b[0m\u001b[1;33m.\u001b[0m\u001b[0mnormalize\u001b[0m\u001b[1;33m(\u001b[0m\u001b[1;33m)\u001b[0m \u001b[1;33m+\u001b[0m\u001b[0mpd\u001b[0m\u001b[1;33m.\u001b[0m\u001b[0moffset\u001b[0m\u001b[1;33m(\u001b[0m\u001b[0mhours\u001b[0m\u001b[1;33m=\u001b[0m\u001b[1;36m11\u001b[0m\u001b[1;33m)\u001b[0m\u001b[1;33m\u001b[0m\u001b[0m\n\u001b[0;32m     13\u001b[0m         \u001b[0mlast_bdays_offset\u001b[0m\u001b[1;33m.\u001b[0m\u001b[0mappend\u001b[0m\u001b[1;33m(\u001b[0m\u001b[0mthird_last\u001b[0m\u001b[1;33m,\u001b[0m \u001b[0msecond_last\u001b[0m\u001b[1;33m)\u001b[0m\u001b[1;33m\u001b[0m\u001b[0m\n",
      "\u001b[1;31mNameError\u001b[0m: name 'BDay' is not defined"
     ]
    }
   ],
   "source": [
    "def get_last_bdays_months():\n",
    "    last_bdays = pd.date_range(\"2017.01.01\", periods=11, freq='BM')\n",
    "    last_bdays_offset = []\n",
    "    for last_bday in last_bdays:\n",
    "        last_bdays_offset.append(last_bday + pd.DateOffset(days=1,hours=8))\n",
    "    return last_bdays_offset\n",
    "\n",
    "def get_last_3_bdays_cutoffs(last_bdays):\n",
    "    last_bdays_offset = []\n",
    "    for last_bday in last_bdays:\n",
    "        second_last = (last_bday - 2 * pd.DateOffset(BDay)).normalize() +pd.offset(hours=11)\n",
    "        third_last = (last_bday - BDay).normalize() +pd.offset(hours=11)\n",
    "        last_bdays_offset.append(third_last, second_last)\n",
    "    return last_2_bdays\n",
    "\n",
    "def days_of_the_month_cutoffs(df, last_bdays, last_3_bdays):\n",
    "    # generate the daily cutoffs for every business day in the month\n",
    "    start_month = df[\"Created_On\"].min().month\n",
    "    end_month = df[\"Created_On\"].max().month\n",
    "    print(end_month - start_month)\n",
    "last_bdays_months = get_last_bdays_months()\n",
    "last_3_bdays = get_last_3_bdays_cutoffs(last_bdays_months)\n",
    "days_of_the_month_cutoffs(df, last_bdays_months, last_3_bdays)       "
   ]
  },
  {
   "cell_type": "code",
   "execution_count": null,
   "metadata": {
    "collapsed": true
   },
   "outputs": [],
   "source": [
    "def get_end_of_day_seconds_left(date, last_bdays_offset, last_2_bdays):\n",
    "    last_33_hour_push = 33*60*60\n",
    "    last_2_bdays = last_33_hour_push + (23+24+5)*60*60 \n",
    "    last_2_bdays_end_of_day = 11 *60*60\n",
    "    normal_end_of_day = 5 *60*60\n",
    "    time_of_day_in_seconds = date.hour*60*60 + date.minute*60 + date.second\n",
    "    print(\"time_of_day_in_seconds = \", time_of_day_in_seconds)\n",
    "    \n",
    "    for i in range(len(last_bdays_offset)):       \n",
    "        if date >= last_bdays_offset[i] and date <last_bdays_offset[i+1]:\n",
    "            \n",
    "#             seconds_left = (last_bdays_offset[i+1] - date).seconds\n",
    "#             days_left = (last_bdays_offset[i+1] - date).days\n",
    "#             total_seconds_left = seconds_left + days_left*24*60*60    \n",
    "#             print(\"time left = \", last_bdays_offset[i+1] - date)\n",
    "#             print(\"seconds_left = \", seconds_left)\n",
    "#             print(\"days_left = \", days_left)\n",
    "#             print(\"total_seconds_left = \", total_seconds_left)\n",
    "#             # if it's during the last 33 hours (time between the last 23 hours cutoff and end of previous business day)\n",
    "#             if total_seconds_left <= last_33_hour_push:\n",
    "#                 print(\"last_33_hour_push\")\n",
    "#                 return total_seconds_left\n",
    "            \n",
    "#             # if \n",
    "#             elif total_seconds_left > last_33_hour_push and  total_seconds_left > last_2_bdays:\n",
    "#                 if date.hour > last_2_bdays_end_of_day:\n",
    "#                     return 24*60*60 - time_of_day_in_seconds + last_2_bdays_end_of_day\n",
    "#                 else:\n",
    "#                     return last_2_bdays_end_of_day - time_of_day_in_seconds\n",
    "#             else:\n",
    "#                 if date.weekday < 4:\n",
    "#                     print(\"weekday\")\n",
    "#                     if time_of_day_in_seconds > normal_end_of_day:\n",
    "                        \n",
    "#                         return 24*60*60-time_of_day_in_seconds + normal_end_of_day\n",
    "#                     else:\n",
    "#                         return normal_end_of_day - time_of_day_in_seconds\n",
    "in_month = 4\n",
    "in_date = 29\n",
    "in_hour = 7\n",
    "date = pd.datetime(2017, in_month, in_date, in_hour)\n",
    "\n",
    "# last_bdays_months = get_last_bdays_months()\n",
    "# get_end_of_day_seconds_left(date, last_bdays_months)"
   ]
  },
  {
   "cell_type": "code",
   "execution_count": 28,
   "metadata": {
    "collapsed": false
   },
   "outputs": [
    {
     "name": "stdout",
     "output_type": "stream",
     "text": [
      "25200\n",
      "3600\n"
     ]
    }
   ],
   "source": [
    "print(7*60*60)\n",
    "print(60*60)"
   ]
  }
 ],
 "metadata": {
  "kernelspec": {
   "display_name": "Python 3",
   "language": "python",
   "name": "python3"
  },
  "language_info": {
   "codemirror_mode": {
    "name": "ipython",
    "version": 3
   },
   "file_extension": ".py",
   "mimetype": "text/x-python",
   "name": "python",
   "nbconvert_exporter": "python",
   "pygments_lexer": "ipython3",
   "version": "3.5.2"
  }
 },
 "nbformat": 4,
 "nbformat_minor": 0
}
