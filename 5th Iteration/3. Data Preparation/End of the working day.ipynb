{
 "cells": [
  {
   "cell_type": "code",
   "execution_count": 1,
   "metadata": {
    "collapsed": true
   },
   "outputs": [],
   "source": [
    "import pandas as pd\n",
    "import numpy as np\n",
    "import datetime\n",
    "import time\n",
    "from calendar import monthrange\n",
    "from pprint import pprint\n",
    "from pandas.tseries.offsets import BDay"
   ]
  },
  {
   "cell_type": "code",
   "execution_count": 2,
   "metadata": {
    "collapsed": true
   },
   "outputs": [],
   "source": [
    "df = pd.read_csv(\"../../../Data/vw_Incident.csv\",encoding='latin-1',low_memory=False)"
   ]
  },
  {
   "cell_type": "code",
   "execution_count": 3,
   "metadata": {
    "collapsed": false
   },
   "outputs": [],
   "source": [
    "from sklearn.utils import resample\n",
    "df = resample(df, n_samples=10, random_state=1234)"
   ]
  },
  {
   "cell_type": "code",
   "execution_count": 40,
   "metadata": {
    "collapsed": false,
    "scrolled": true
   },
   "outputs": [
    {
     "name": "stdout",
     "output_type": "stream",
     "text": [
      "[datetime.datetime(2017, 1, 1, 0, 0),\n",
      " Timestamp('2017-01-27 17:00:00'),\n",
      " Timestamp('2017-01-30 23:00:00'),\n",
      " Timestamp('2017-02-02 23:00:00'),\n",
      " Timestamp('2017-02-01 08:00:00'),\n",
      " Timestamp('2017-02-24 17:00:00'),\n",
      " Timestamp('2017-02-27 23:00:00'),\n",
      " Timestamp('2017-03-02 23:00:00'),\n",
      " Timestamp('2017-03-01 08:00:00'),\n",
      " Timestamp('2017-03-29 17:00:00'),\n",
      " Timestamp('2017-03-30 23:00:00'),\n",
      " Timestamp('2017-04-03 23:00:00'),\n",
      " Timestamp('2017-04-01 08:00:00'),\n",
      " Timestamp('2017-04-26 17:00:00'),\n",
      " Timestamp('2017-04-27 23:00:00'),\n",
      " Timestamp('2017-05-01 23:00:00'),\n",
      " Timestamp('2017-04-29 08:00:00'),\n",
      " Timestamp('2017-05-29 17:00:00'),\n",
      " Timestamp('2017-05-30 23:00:00'),\n",
      " Timestamp('2017-06-02 23:00:00'),\n",
      " Timestamp('2017-06-01 08:00:00'),\n",
      " Timestamp('2017-06-28 17:00:00'),\n",
      " Timestamp('2017-06-29 23:00:00'),\n",
      " Timestamp('2017-07-03 23:00:00'),\n",
      " Timestamp('2017-07-01 08:00:00'),\n",
      " Timestamp('2017-07-27 17:00:00'),\n",
      " Timestamp('2017-07-28 23:00:00'),\n",
      " Timestamp('2017-08-02 23:00:00'),\n",
      " Timestamp('2017-08-01 08:00:00'),\n",
      " Timestamp('2017-08-29 17:00:00'),\n",
      " Timestamp('2017-08-30 23:00:00'),\n",
      " Timestamp('2017-09-04 23:00:00'),\n",
      " Timestamp('2017-09-01 08:00:00'),\n",
      " Timestamp('2017-09-27 17:00:00'),\n",
      " Timestamp('2017-09-28 23:00:00'),\n",
      " Timestamp('2017-10-02 23:00:00'),\n",
      " Timestamp('2017-09-30 08:00:00'),\n",
      " Timestamp('2017-10-27 17:00:00'),\n",
      " Timestamp('2017-10-30 23:00:00'),\n",
      " Timestamp('2017-11-02 23:00:00'),\n",
      " Timestamp('2017-11-01 08:00:00'),\n",
      " Timestamp('2017-11-28 17:00:00'),\n",
      " Timestamp('2017-11-29 23:00:00'),\n",
      " Timestamp('2017-12-04 23:00:00'),\n",
      " Timestamp('2017-12-01 08:00:00')]\n"
     ]
    }
   ],
   "source": [
    "pprint(cutoffs)"
   ]
  },
  {
   "cell_type": "code",
   "execution_count": 32,
   "metadata": {
    "collapsed": false
   },
   "outputs": [
    {
     "name": "stdout",
     "output_type": "stream",
     "text": [
      "0\n",
      "1\n",
      "alg sec left = 82800\n",
      "seconds left = 82800\n",
      "hours left = 23\n"
     ]
    }
   ],
   "source": [
    "def get_last_bdays_months():\n",
    "    last_bdays = pd.date_range(\"2017.01.01\", periods=11, freq='BM')\n",
    "    last_bdays_offset = []\n",
    "    for last_bday in last_bdays:\n",
    "        last_bdays_offset.append(last_bday + pd.DateOffset(days=1,hours=8))\n",
    "    return last_bdays_offset\n",
    "\n",
    "def get_cutoffs(last_bdays):\n",
    "    start_of_the_year = pd.datetime(2017,1,1)\n",
    "    last_bdays_offset = [start_of_the_year]\n",
    "    for last_bday in last_bdays:\n",
    "        end_fourth_last = (last_bday - BDay(1) - BDay(1) - BDay(1) - BDay(1)).normalize() +pd.DateOffset(hours=17)\n",
    "        last_bdays_offset.append(end_fourth_last)\n",
    "        end_third_last = (last_bday - BDay(1) - BDay(1) - BDay(1)).normalize() +pd.DateOffset(hours=23)\n",
    "        last_bdays_offset.append(end_third_last)\n",
    "        end_second_last = (last_bday - BDay(1) - BDay(1)).normalize() +pd.DateOffset(hours=23)\n",
    "        last_bdays_offset.append(end_second_last)\n",
    "        last_bdays_offset.append(last_bday)\n",
    "    return last_bdays_offset\n",
    "last_bdays_months = get_last_bdays_months()\n",
    "cutoffs = get_cutoffs(last_bdays_months)\n",
    "\n",
    "def get_seconds_until_end_of_day(date, cutoffs):\n",
    "    for i in range(len(cutoffs)):    \n",
    "        if date >= cutoffs[i] and date < cutoffs[i+1]:\n",
    "            hour = cutoffs[i+1].hour\n",
    "            minute = cutoffs[i+1].minute\n",
    "            second = cutoffs[i+1].second\n",
    "            cutoff_in_seconds = hour*60*60 + minute*60 + second\n",
    "\n",
    "            hour = date.hour\n",
    "            minute = date.minute\n",
    "            second = date.second\n",
    "            date_in_seconds = hour*60*60 + minute*60 + second\n",
    "            \n",
    "            if date.weekday() < 5:\n",
    "                print(date.weekday())\n",
    "                print((date + pd.DateOffset(days=1)).weekday())\n",
    "                if cutoffs[i+1].time() > date.time():\n",
    "                    return cutoff_in_seconds - date_in_seconds\n",
    "                elif (date + pd.DateOffset(days=1)).weekday() <5:\n",
    "                    \n",
    "                    return cutoff_in_seconds + 24*60*60 - date_in_seconds\n",
    "                else:\n",
    "                    print(\"here\")\n",
    "                    return cutoff_in_seconds + (24*60*60)*3 - date_in_seconds\n",
    "            else:\n",
    "                if date.date() == cutoffs[i+1].date():\n",
    "                    if cutoffs[i+1].hour == 23:\n",
    "                        return cutoff_in_seconds - date_in_seconds\n",
    "                    else:\n",
    "                        print(\"yes\")\n",
    "                        return cutoff_in_seconds +24*60*60 - date_in_seconds\n",
    "                else:\n",
    "                    print(\"weekend, day number = \", date.weekday())\n",
    "                    if date.weekday() == 5:\n",
    "                        return (24*60*60)*2 - date_in_seconds + cutoff_in_seconds\n",
    "                    else:\n",
    "                        return (24*60*60) - date_in_seconds + cutoff_in_seconds\n",
    "# pprint(cutoffs)\n",
    "date_hour = 18\n",
    "date = pd.datetime(2017, 3, 20, date_hour)\n",
    "print(\"alg sec left =\", get_seconds_until_end_of_day(date, cutoffs))\n",
    "\n",
    "cutoff_hour = 17\n",
    "\n",
    "# time_left = cutoff_hour+24 - date_hour # 20th Mar 16\n",
    "# time_left = cutoff_hour - date_hour # 20th Mar 16\n",
    "# time_left = cutoff_hour + 24- date_hour # 19th Mar 16\n",
    "# time_left = cutoff_hour +24 + 24- date_hour # 18th Mar 18\n",
    "# time_left = cutoff_hour +24 + 24 + 24- date_hour # 17th Mar 18\n",
    "# time_left = cutoff_hour - date_hour # 17th Mar 16\n",
    "# time_left = cutoff_hour +24- date_hour # 16th Mar 18\n",
    "# time_left = cutoff_hour - date_hour # 1th Mar\n",
    "# time_left = cutoff_hour +24- date_hour # 28th Feb\n",
    "# time_left = cutoff_hour - date_hour # 27th Feb\n",
    "# time_left = cutoff_hour +24 - date_hour # 26th Feb\n",
    "# time_left = cutoff_hour +24+ 24 - date_hour # 25th Feb\n",
    "# time_left = cutoff_hour - date_hour # 24th Feb\n",
    "# time_left = 24 - date_hour + cutoff_hour # sunday before 17\n",
    "# time_left = 24 - date_hour + 24 + cutoff_hour # saturday \n",
    "# print(cutoff_hour + 24 - date_hour)## weekday after 17\n",
    "# print(cutoff_hour - date_hour)## weekday before 17\n",
    "\n",
    "print(\"seconds left =\", time_left*60*60)\n",
    "print(\"hours left =\", time_left)"
   ]
  },
  {
   "cell_type": "code",
   "execution_count": 4,
   "metadata": {
    "collapsed": false,
    "scrolled": true
   },
   "outputs": [
    {
     "ename": "TypeError",
     "evalue": "int() argument must be a string, a bytes-like object or a number, not 'type'",
     "output_type": "error",
     "traceback": [
      "\u001b[1;31m---------------------------------------------------------------------------\u001b[0m",
      "\u001b[1;31mTypeError\u001b[0m                                 Traceback (most recent call last)",
      "\u001b[1;32m<ipython-input-4-f453acc0fccd>\u001b[0m in \u001b[0;36m<module>\u001b[1;34m()\u001b[0m\n\u001b[0;32m     20\u001b[0m     \u001b[0mprint\u001b[0m\u001b[1;33m(\u001b[0m\u001b[0mend_month\u001b[0m \u001b[1;33m-\u001b[0m \u001b[0mstart_month\u001b[0m\u001b[1;33m)\u001b[0m\u001b[1;33m\u001b[0m\u001b[0m\n\u001b[0;32m     21\u001b[0m \u001b[0mlast_bdays_months\u001b[0m \u001b[1;33m=\u001b[0m \u001b[0mget_last_bdays_months\u001b[0m\u001b[1;33m(\u001b[0m\u001b[1;33m)\u001b[0m\u001b[1;33m\u001b[0m\u001b[0m\n\u001b[1;32m---> 22\u001b[1;33m \u001b[0mlast_3_bdays\u001b[0m \u001b[1;33m=\u001b[0m \u001b[0mget_last_3_bdays_cutoffs\u001b[0m\u001b[1;33m(\u001b[0m\u001b[0mlast_bdays_months\u001b[0m\u001b[1;33m)\u001b[0m\u001b[1;33m\u001b[0m\u001b[0m\n\u001b[0m\u001b[0;32m     23\u001b[0m \u001b[0mdays_of_the_month_cutoffs\u001b[0m\u001b[1;33m(\u001b[0m\u001b[0mdf\u001b[0m\u001b[1;33m,\u001b[0m \u001b[0mlast_bdays_months\u001b[0m\u001b[1;33m,\u001b[0m \u001b[0mlast_3_bdays\u001b[0m\u001b[1;33m)\u001b[0m\u001b[1;33m\u001b[0m\u001b[0m\n",
      "\u001b[1;32m<ipython-input-4-f453acc0fccd>\u001b[0m in \u001b[0;36mget_last_3_bdays_cutoffs\u001b[1;34m(last_bdays)\u001b[0m\n\u001b[0;32m      9\u001b[0m     \u001b[0mlast_bdays_offset\u001b[0m \u001b[1;33m=\u001b[0m \u001b[1;33m[\u001b[0m\u001b[1;33m]\u001b[0m\u001b[1;33m\u001b[0m\u001b[0m\n\u001b[0;32m     10\u001b[0m     \u001b[1;32mfor\u001b[0m \u001b[0mlast_bday\u001b[0m \u001b[1;32min\u001b[0m \u001b[0mlast_bdays\u001b[0m\u001b[1;33m:\u001b[0m\u001b[1;33m\u001b[0m\u001b[0m\n\u001b[1;32m---> 11\u001b[1;33m         \u001b[0msecond_last\u001b[0m \u001b[1;33m=\u001b[0m \u001b[1;33m(\u001b[0m\u001b[0mlast_bday\u001b[0m \u001b[1;33m-\u001b[0m \u001b[1;36m2\u001b[0m \u001b[1;33m*\u001b[0m \u001b[0mpd\u001b[0m\u001b[1;33m.\u001b[0m\u001b[0mDateOffset\u001b[0m\u001b[1;33m(\u001b[0m\u001b[0mBDay\u001b[0m\u001b[1;33m)\u001b[0m\u001b[1;33m)\u001b[0m\u001b[1;33m.\u001b[0m\u001b[0mnormalize\u001b[0m\u001b[1;33m(\u001b[0m\u001b[1;33m)\u001b[0m \u001b[1;33m+\u001b[0m\u001b[0mpd\u001b[0m\u001b[1;33m.\u001b[0m\u001b[0moffset\u001b[0m\u001b[1;33m(\u001b[0m\u001b[0mhours\u001b[0m\u001b[1;33m=\u001b[0m\u001b[1;36m11\u001b[0m\u001b[1;33m)\u001b[0m\u001b[1;33m\u001b[0m\u001b[0m\n\u001b[0m\u001b[0;32m     12\u001b[0m         \u001b[0mthird_last\u001b[0m \u001b[1;33m=\u001b[0m \u001b[1;33m(\u001b[0m\u001b[0mlast_bday\u001b[0m \u001b[1;33m-\u001b[0m \u001b[0mBDay\u001b[0m\u001b[1;33m)\u001b[0m\u001b[1;33m.\u001b[0m\u001b[0mnormalize\u001b[0m\u001b[1;33m(\u001b[0m\u001b[1;33m)\u001b[0m \u001b[1;33m+\u001b[0m\u001b[0mpd\u001b[0m\u001b[1;33m.\u001b[0m\u001b[0moffset\u001b[0m\u001b[1;33m(\u001b[0m\u001b[0mhours\u001b[0m\u001b[1;33m=\u001b[0m\u001b[1;36m11\u001b[0m\u001b[1;33m)\u001b[0m\u001b[1;33m\u001b[0m\u001b[0m\n\u001b[0;32m     13\u001b[0m         \u001b[0mlast_bdays_offset\u001b[0m\u001b[1;33m.\u001b[0m\u001b[0mappend\u001b[0m\u001b[1;33m(\u001b[0m\u001b[0mthird_last\u001b[0m\u001b[1;33m,\u001b[0m \u001b[0msecond_last\u001b[0m\u001b[1;33m)\u001b[0m\u001b[1;33m\u001b[0m\u001b[0m\n",
      "\u001b[1;32mC:\\Users\\Kieron\\Anaconda3\\lib\\site-packages\\pandas\\tseries\\offsets.py\u001b[0m in \u001b[0;36m__init__\u001b[1;34m(self, n, normalize, **kwds)\u001b[0m\n\u001b[0;32m    190\u001b[0m \u001b[1;33m\u001b[0m\u001b[0m\n\u001b[0;32m    191\u001b[0m     \u001b[1;32mdef\u001b[0m \u001b[0m__init__\u001b[0m\u001b[1;33m(\u001b[0m\u001b[0mself\u001b[0m\u001b[1;33m,\u001b[0m \u001b[0mn\u001b[0m\u001b[1;33m=\u001b[0m\u001b[1;36m1\u001b[0m\u001b[1;33m,\u001b[0m \u001b[0mnormalize\u001b[0m\u001b[1;33m=\u001b[0m\u001b[1;32mFalse\u001b[0m\u001b[1;33m,\u001b[0m \u001b[1;33m**\u001b[0m\u001b[0mkwds\u001b[0m\u001b[1;33m)\u001b[0m\u001b[1;33m:\u001b[0m\u001b[1;33m\u001b[0m\u001b[0m\n\u001b[1;32m--> 192\u001b[1;33m         \u001b[0mself\u001b[0m\u001b[1;33m.\u001b[0m\u001b[0mn\u001b[0m \u001b[1;33m=\u001b[0m \u001b[0mint\u001b[0m\u001b[1;33m(\u001b[0m\u001b[0mn\u001b[0m\u001b[1;33m)\u001b[0m\u001b[1;33m\u001b[0m\u001b[0m\n\u001b[0m\u001b[0;32m    193\u001b[0m         \u001b[0mself\u001b[0m\u001b[1;33m.\u001b[0m\u001b[0mnormalize\u001b[0m \u001b[1;33m=\u001b[0m \u001b[0mnormalize\u001b[0m\u001b[1;33m\u001b[0m\u001b[0m\n\u001b[0;32m    194\u001b[0m         \u001b[0mself\u001b[0m\u001b[1;33m.\u001b[0m\u001b[0mkwds\u001b[0m \u001b[1;33m=\u001b[0m \u001b[0mkwds\u001b[0m\u001b[1;33m\u001b[0m\u001b[0m\n",
      "\u001b[1;31mTypeError\u001b[0m: int() argument must be a string, a bytes-like object or a number, not 'type'"
     ]
    }
   ],
   "source": [
    "def days_of_the_month_cutoffs(df, last_bdays, last_3_bdays):\n",
    "    # generate the daily cutoffs for every business day in the month\n",
    "    start_month = df[\"Created_On\"].min().month\n",
    "    end_month = df[\"Created_On\"].max().month\n",
    "    print(end_month - start_month)\n",
    "last_bdays_months = get_last_bdays_months()\n",
    "last_3_bdays = get_last_3_bdays_cutoffs(last_bdays_months)\n",
    "days_of_the_month_cutoffs(df, last_bdays_months, last_3_bdays)       "
   ]
  },
  {
   "cell_type": "code",
   "execution_count": null,
   "metadata": {
    "collapsed": true
   },
   "outputs": [],
   "source": [
    "def get_end_of_day_seconds_left(date, last_bdays):\n",
    "    last_33_hour_push = 33*60*60\n",
    "    for i in range(len(last_bdays_offset)):    \n",
    "        if date >= last_bdays_offset[i] and date < last_bdays_offset[i+1]:\n",
    "            seconds_left = (last_bdays_offset[i+1] - date).seconds\n",
    "            days_left = (last_bdays_offset[i+1] - date).days\n",
    "            total_seconds_left = seconds_left + days_left*24*60*60  \n",
    "            if total_seconds_left < last_33_hour_push:\n",
    "                return total_seconds_left\n",
    "            elif total_seconds_left < last_33_hour_push + 24 + 24:\n",
    "                if date.day is sunday or saturday or (date.day is friday and date.time is >11pm):\n",
    "                    return total_seconds_left\n",
    "                elif date.time > 11pm:\n",
    "                    return total_seconds_left\n",
    "                else:\n",
    "                    return 11pm - date.time\n",
    "            elif last_bdays_offset[i+1] - 2*day == date.day\n",
    "                if date.time > 11pm:\n",
    "                    return \n",
    "                else:\n",
    "                    return 11pm - date.time\n",
    "                \n",
    "            \n",
    "            \n",
    "        \n",
    "        \n",
    "        "
   ]
  },
  {
   "cell_type": "code",
   "execution_count": null,
   "metadata": {
    "collapsed": true
   },
   "outputs": [],
   "source": [
    "# def get_end_of_day_seconds_left(date, last_bdays_offset, last_2_bdays):\n",
    "#     last_33_hour_push = 33*60*60\n",
    "#     last_2_bdays = last_33_hour_push + (23+24+5)*60*60 \n",
    "#     last_2_bdays_end_of_day = 11 *60*60\n",
    "#     normal_end_of_day = 5 *60*60\n",
    "#     time_of_day_in_seconds = date.hour*60*60 + date.minute*60 + date.second\n",
    "#     print(\"time_of_day_in_seconds = \", time_of_day_in_seconds)\n",
    "    \n",
    "#     for i in range(len(last_bdays_offset)):       \n",
    "# #         if date >= last_bdays_offset[i] and date <last_bdays_offset[i+1]:\n",
    "            \n",
    "#             seconds_left = (last_bdays_offset[i+1] - date).seconds\n",
    "#             days_left = (last_bdays_offset[i+1] - date).days\n",
    "#             total_seconds_left = seconds_left + days_left*24*60*60    \n",
    "#             print(\"time left = \", last_bdays_offset[i+1] - date)\n",
    "#             print(\"seconds_left = \", seconds_left)\n",
    "#             print(\"days_left = \", days_left)\n",
    "#             print(\"total_seconds_left = \", total_seconds_left)\n",
    "#             # if it's during the last 33 hours (time between the last 23 hours cutoff and end of previous business day)\n",
    "            \n",
    "# #             if total_seconds_left <= last_33_hour_push:\n",
    "# #                 print(\"last_33_hour_push\")\n",
    "# #                 return total_seconds_left\n",
    "# #             elif date == last_bdays_offset[i+1] - BDay or date == last_bdays_offset[i+1] - BDay -BDay:\n",
    "# #                 if date.time < 11pm:\n",
    "# #                     return 11pm - date.time\n",
    "# #                 else:\n",
    "# #                     return 11pm + (12pm - date.time)\n",
    "# #             else:\n",
    "# #                 if date.time < 5pm:\n",
    "# #                     return 5pm - date.time\n",
    "# #                 else:\n",
    "# #                     return 5pm + (12pm - date.time)\n",
    "# #         elif date == BDay:\n",
    "                \n",
    "                \n",
    "            \n",
    "in_month = 4\n",
    "in_date = 29\n",
    "in_hour = 7\n",
    "date = pd.datetime(2017, in_month, in_date, in_hour)\n",
    "\n",
    "# last_bdays_months = get_last_bdays_months()\n",
    "# get_end_of_day_seconds_left(date, last_bdays_months)"
   ]
  }
 ],
 "metadata": {
  "kernelspec": {
   "display_name": "Python 3",
   "language": "python",
   "name": "python3"
  },
  "language_info": {
   "codemirror_mode": {
    "name": "ipython",
    "version": 3
   },
   "file_extension": ".py",
   "mimetype": "text/x-python",
   "name": "python",
   "nbconvert_exporter": "python",
   "pygments_lexer": "ipython3",
   "version": "3.5.2"
  }
 },
 "nbformat": 4,
 "nbformat_minor": 0
}
