{
 "cells": [
  {
   "cell_type": "code",
   "execution_count": 2,
   "metadata": {
    "collapsed": true
   },
   "outputs": [],
   "source": [
    "import pandas as pd\n",
    "import matplotlib.pyplot as plt\n",
    "%matplotlib inline"
   ]
  },
  {
   "cell_type": "code",
   "execution_count": 3,
   "metadata": {
    "collapsed": false
   },
   "outputs": [],
   "source": [
    "dfincident = pd.read_csv(\"../../../Data/vw_Incident.csv\",\n",
    "                      encoding='latin-1',\n",
    "                     low_memory=False)\n",
    "dfholdactivity = pd.read_csv(\"../../../Data/vw_HoldActivity.csv\",\n",
    "                      encoding='latin-1',\n",
    "                     low_memory=False)"
   ]
  },
  {
   "cell_type": "code",
   "execution_count": 4,
   "metadata": {
    "collapsed": false,
    "scrolled": true
   },
   "outputs": [
    {
     "data": {
      "text/html": [
       "<div>\n",
       "<style>\n",
       "    .dataframe thead tr:only-child th {\n",
       "        text-align: right;\n",
       "    }\n",
       "\n",
       "    .dataframe thead th {\n",
       "        text-align: left;\n",
       "    }\n",
       "\n",
       "    .dataframe tbody tr th {\n",
       "        vertical-align: top;\n",
       "    }\n",
       "</style>\n",
       "<table border=\"1\" class=\"dataframe\">\n",
       "  <thead>\n",
       "    <tr style=\"text-align: right;\">\n",
       "      <th></th>\n",
       "      <th>TicketNumber</th>\n",
       "      <th>IncidentId</th>\n",
       "      <th>Created_On</th>\n",
       "      <th>Receiveddate</th>\n",
       "      <th>ResolvedDate</th>\n",
       "      <th>Queue</th>\n",
       "      <th>StatusReason</th>\n",
       "      <th>Priority</th>\n",
       "      <th>ValidCase</th>\n",
       "      <th>BusinessFunction</th>\n",
       "      <th>...</th>\n",
       "      <th>IsMagnumCase</th>\n",
       "      <th>IsSignature</th>\n",
       "      <th>Complexity</th>\n",
       "      <th>Numberofreactivations</th>\n",
       "      <th>NumberofChildIncidents</th>\n",
       "      <th>ParentCase</th>\n",
       "      <th>Referencesystem</th>\n",
       "      <th>StateCode</th>\n",
       "      <th>Isrevenueimpacting</th>\n",
       "      <th>IsSOXCase</th>\n",
       "    </tr>\n",
       "  </thead>\n",
       "  <tbody>\n",
       "    <tr>\n",
       "      <th>0</th>\n",
       "      <td>5-0000000464394</td>\n",
       "      <td>FD1F79A6-4007-E711-80E9-3863BB2ED230</td>\n",
       "      <td>2017-03-12 16:26:32</td>\n",
       "      <td>2017-03-12 16:15:00</td>\n",
       "      <td>2017-03-12 16:30:24</td>\n",
       "      <td>&lt;VL EOC Enterprise Orders and Adjustments&gt;</td>\n",
       "      <td>Rejected</td>\n",
       "      <td>Normal</td>\n",
       "      <td>1</td>\n",
       "      <td>Signature to Invoice (S2I)</td>\n",
       "      <td>...</td>\n",
       "      <td>0</td>\n",
       "      <td>0</td>\n",
       "      <td>Medium</td>\n",
       "      <td>NaN</td>\n",
       "      <td>NaN</td>\n",
       "      <td>NaN</td>\n",
       "      <td>NaN</td>\n",
       "      <td>Resolved</td>\n",
       "      <td>0</td>\n",
       "      <td>1.0</td>\n",
       "    </tr>\n",
       "    <tr>\n",
       "      <th>1</th>\n",
       "      <td>5-0000000464404</td>\n",
       "      <td>57B789CC-4507-E711-80E9-3863BB2ED230</td>\n",
       "      <td>2017-03-12 17:03:23</td>\n",
       "      <td>2017-03-12 00:00:00</td>\n",
       "      <td>2017-03-27 23:48:29</td>\n",
       "      <td>&lt;VL AOC SMS&amp;P Processing&gt;</td>\n",
       "      <td>Problem Solved</td>\n",
       "      <td>Normal</td>\n",
       "      <td>1</td>\n",
       "      <td>Signature to Invoice (S2I)</td>\n",
       "      <td>...</td>\n",
       "      <td>0</td>\n",
       "      <td>0</td>\n",
       "      <td>NaN</td>\n",
       "      <td>NaN</td>\n",
       "      <td>NaN</td>\n",
       "      <td>NaN</td>\n",
       "      <td>NaN</td>\n",
       "      <td>Resolved</td>\n",
       "      <td>0</td>\n",
       "      <td>0.0</td>\n",
       "    </tr>\n",
       "    <tr>\n",
       "      <th>2</th>\n",
       "      <td>5-0000000464412</td>\n",
       "      <td>480ACC79-4A07-E711-80E9-3863BB2ED230</td>\n",
       "      <td>2017-03-12 17:36:52</td>\n",
       "      <td>2017-03-12 17:30:00</td>\n",
       "      <td>2017-05-12 09:02:44</td>\n",
       "      <td>&lt;VL EOC Ops Out&gt;</td>\n",
       "      <td>Completed</td>\n",
       "      <td>Normal</td>\n",
       "      <td>1</td>\n",
       "      <td>Signature to Invoice (S2I)</td>\n",
       "      <td>...</td>\n",
       "      <td>1</td>\n",
       "      <td>1</td>\n",
       "      <td>Medium</td>\n",
       "      <td>NaN</td>\n",
       "      <td>NaN</td>\n",
       "      <td>NaN</td>\n",
       "      <td>NaN</td>\n",
       "      <td>Resolved</td>\n",
       "      <td>0</td>\n",
       "      <td>1.0</td>\n",
       "    </tr>\n",
       "    <tr>\n",
       "      <th>3</th>\n",
       "      <td>5-0000000464428</td>\n",
       "      <td>F26F878E-5507-E711-80E9-3863BB2ED230</td>\n",
       "      <td>2017-03-12 18:56:21</td>\n",
       "      <td>2017-03-12 00:00:00</td>\n",
       "      <td>2017-03-27 23:52:24</td>\n",
       "      <td>&lt;VL AOC SMS&amp;P Processing&gt;</td>\n",
       "      <td>Completed</td>\n",
       "      <td>Normal</td>\n",
       "      <td>1</td>\n",
       "      <td>Signature to Invoice (S2I)</td>\n",
       "      <td>...</td>\n",
       "      <td>0</td>\n",
       "      <td>0</td>\n",
       "      <td>NaN</td>\n",
       "      <td>NaN</td>\n",
       "      <td>NaN</td>\n",
       "      <td>NaN</td>\n",
       "      <td>NaN</td>\n",
       "      <td>Resolved</td>\n",
       "      <td>0</td>\n",
       "      <td>0.0</td>\n",
       "    </tr>\n",
       "    <tr>\n",
       "      <th>4</th>\n",
       "      <td>5-0000000464434</td>\n",
       "      <td>6E7599FE-5C07-E711-80E9-3863BB2ED230</td>\n",
       "      <td>2017-03-12 19:49:25</td>\n",
       "      <td>2017-03-12 19:49:23</td>\n",
       "      <td>2017-03-25 22:00:42</td>\n",
       "      <td>&lt;VL AOC Outbound Shipping&gt;</td>\n",
       "      <td>Problem Solved</td>\n",
       "      <td>Normal</td>\n",
       "      <td>1</td>\n",
       "      <td>Signature to Invoice (S2I)</td>\n",
       "      <td>...</td>\n",
       "      <td>1</td>\n",
       "      <td>1</td>\n",
       "      <td>NaN</td>\n",
       "      <td>NaN</td>\n",
       "      <td>NaN</td>\n",
       "      <td>NaN</td>\n",
       "      <td>NaN</td>\n",
       "      <td>Resolved</td>\n",
       "      <td>0</td>\n",
       "      <td>1.0</td>\n",
       "    </tr>\n",
       "  </tbody>\n",
       "</table>\n",
       "<p>5 rows × 69 columns</p>\n",
       "</div>"
      ],
      "text/plain": [
       "      TicketNumber                            IncidentId           Created_On  \\\n",
       "0  5-0000000464394  FD1F79A6-4007-E711-80E9-3863BB2ED230  2017-03-12 16:26:32   \n",
       "1  5-0000000464404  57B789CC-4507-E711-80E9-3863BB2ED230  2017-03-12 17:03:23   \n",
       "2  5-0000000464412  480ACC79-4A07-E711-80E9-3863BB2ED230  2017-03-12 17:36:52   \n",
       "3  5-0000000464428  F26F878E-5507-E711-80E9-3863BB2ED230  2017-03-12 18:56:21   \n",
       "4  5-0000000464434  6E7599FE-5C07-E711-80E9-3863BB2ED230  2017-03-12 19:49:25   \n",
       "\n",
       "          Receiveddate         ResolvedDate  \\\n",
       "0  2017-03-12 16:15:00  2017-03-12 16:30:24   \n",
       "1  2017-03-12 00:00:00  2017-03-27 23:48:29   \n",
       "2  2017-03-12 17:30:00  2017-05-12 09:02:44   \n",
       "3  2017-03-12 00:00:00  2017-03-27 23:52:24   \n",
       "4  2017-03-12 19:49:23  2017-03-25 22:00:42   \n",
       "\n",
       "                                        Queue    StatusReason Priority  \\\n",
       "0  <VL EOC Enterprise Orders and Adjustments>        Rejected   Normal   \n",
       "1                   <VL AOC SMS&P Processing>  Problem Solved   Normal   \n",
       "2                            <VL EOC Ops Out>       Completed   Normal   \n",
       "3                   <VL AOC SMS&P Processing>       Completed   Normal   \n",
       "4                  <VL AOC Outbound Shipping>  Problem Solved   Normal   \n",
       "\n",
       "   ValidCase            BusinessFunction    ...    IsMagnumCase IsSignature  \\\n",
       "0          1  Signature to Invoice (S2I)    ...               0           0   \n",
       "1          1  Signature to Invoice (S2I)    ...               0           0   \n",
       "2          1  Signature to Invoice (S2I)    ...               1           1   \n",
       "3          1  Signature to Invoice (S2I)    ...               0           0   \n",
       "4          1  Signature to Invoice (S2I)    ...               1           1   \n",
       "\n",
       "  Complexity Numberofreactivations NumberofChildIncidents ParentCase  \\\n",
       "0     Medium                   NaN                    NaN        NaN   \n",
       "1        NaN                   NaN                    NaN        NaN   \n",
       "2     Medium                   NaN                    NaN        NaN   \n",
       "3        NaN                   NaN                    NaN        NaN   \n",
       "4        NaN                   NaN                    NaN        NaN   \n",
       "\n",
       "  Referencesystem StateCode Isrevenueimpacting IsSOXCase  \n",
       "0             NaN  Resolved                  0       1.0  \n",
       "1             NaN  Resolved                  0       0.0  \n",
       "2             NaN  Resolved                  0       1.0  \n",
       "3             NaN  Resolved                  0       0.0  \n",
       "4             NaN  Resolved                  0       1.0  \n",
       "\n",
       "[5 rows x 69 columns]"
      ]
     },
     "execution_count": 4,
     "metadata": {},
     "output_type": "execute_result"
    }
   ],
   "source": [
    "dfincident.head()"
   ]
  },
  {
   "cell_type": "code",
   "execution_count": 5,
   "metadata": {
    "collapsed": false,
    "scrolled": true
   },
   "outputs": [
    {
     "data": {
      "text/html": [
       "<div>\n",
       "<style>\n",
       "    .dataframe thead tr:only-child th {\n",
       "        text-align: right;\n",
       "    }\n",
       "\n",
       "    .dataframe thead th {\n",
       "        text-align: left;\n",
       "    }\n",
       "\n",
       "    .dataframe tbody tr th {\n",
       "        vertical-align: top;\n",
       "    }\n",
       "</style>\n",
       "<table border=\"1\" class=\"dataframe\">\n",
       "  <thead>\n",
       "    <tr style=\"text-align: right;\">\n",
       "      <th></th>\n",
       "      <th>TicketNumber</th>\n",
       "      <th>ActivityId</th>\n",
       "      <th>RegardingObjectId</th>\n",
       "      <th>HoldDuration</th>\n",
       "      <th>Statuscode</th>\n",
       "      <th>Statecode</th>\n",
       "      <th>TimeZoneRuleVersionNumber</th>\n",
       "      <th>HoldTypeName</th>\n",
       "      <th>Reason</th>\n",
       "      <th>AssignedToGroup</th>\n",
       "      <th>StartTime</th>\n",
       "      <th>EndTime</th>\n",
       "      <th>IsThreeStrikeRule</th>\n",
       "      <th>HoldSubReason</th>\n",
       "      <th>Modified_On</th>\n",
       "      <th>Deleted</th>\n",
       "    </tr>\n",
       "  </thead>\n",
       "  <tbody>\n",
       "    <tr>\n",
       "      <th>0</th>\n",
       "      <td>5-0000000464223</td>\n",
       "      <td>28E0D3AE-0907-E711-80E9-3863BB2ED230</td>\n",
       "      <td>2058B401-7A06-E711-80F3-FC15B428DE24</td>\n",
       "      <td>4620</td>\n",
       "      <td>Completed</td>\n",
       "      <td>Completed</td>\n",
       "      <td>NaN</td>\n",
       "      <td>3rd Party</td>\n",
       "      <td>Trade - Trade Status Hold</td>\n",
       "      <td>Internal</td>\n",
       "      <td>2017-03-12 09:53:03</td>\n",
       "      <td>2017-03-15 14:16:17</td>\n",
       "      <td>0</td>\n",
       "      <td>NaN</td>\n",
       "      <td>2017-03-15 14:16:17</td>\n",
       "      <td>NaN</td>\n",
       "    </tr>\n",
       "    <tr>\n",
       "      <th>1</th>\n",
       "      <td>5-0000000418488</td>\n",
       "      <td>79A45B63-3507-E711-80E9-3863BB2ED230</td>\n",
       "      <td>54A3CC57-50FE-E611-80F1-FC15B428DE24</td>\n",
       "      <td>0</td>\n",
       "      <td>Open</td>\n",
       "      <td>Open</td>\n",
       "      <td>NaN</td>\n",
       "      <td>Customer</td>\n",
       "      <td>Price Error</td>\n",
       "      <td>Submitter (Contact)</td>\n",
       "      <td>2017-03-12 15:05:55</td>\n",
       "      <td>NaN</td>\n",
       "      <td>0</td>\n",
       "      <td>NaN</td>\n",
       "      <td>2017-03-12 15:05:55</td>\n",
       "      <td>NaN</td>\n",
       "    </tr>\n",
       "    <tr>\n",
       "      <th>2</th>\n",
       "      <td>5-0000000402148</td>\n",
       "      <td>241CB04D-3907-E711-80E9-3863BB2ED230</td>\n",
       "      <td>60D07540-BBFA-E611-80F6-FC15B4289B54</td>\n",
       "      <td>120</td>\n",
       "      <td>Completed</td>\n",
       "      <td>Completed</td>\n",
       "      <td>0.0</td>\n",
       "      <td>Customer</td>\n",
       "      <td>PO Number Error</td>\n",
       "      <td>Submitter (Contact)</td>\n",
       "      <td>2017-03-12 15:33:56</td>\n",
       "      <td>2017-03-12 17:18:02</td>\n",
       "      <td>0</td>\n",
       "      <td>NaN</td>\n",
       "      <td>2017-03-28 06:15:33</td>\n",
       "      <td>NaN</td>\n",
       "    </tr>\n",
       "    <tr>\n",
       "      <th>3</th>\n",
       "      <td>5-0000000463272</td>\n",
       "      <td>996E4A98-5407-E711-80E9-3863BB2ED230</td>\n",
       "      <td>905C98C5-CB05-E711-80F3-FC15B4284D68</td>\n",
       "      <td>3300</td>\n",
       "      <td>Completed</td>\n",
       "      <td>Completed</td>\n",
       "      <td>0.0</td>\n",
       "      <td>Internal</td>\n",
       "      <td>Internal Hold - Team Lead</td>\n",
       "      <td>Submitter (Contact)</td>\n",
       "      <td>2017-03-12 18:49:25</td>\n",
       "      <td>2017-03-15 01:46:18</td>\n",
       "      <td>0</td>\n",
       "      <td>NaN</td>\n",
       "      <td>2017-03-15 01:46:18</td>\n",
       "      <td>NaN</td>\n",
       "    </tr>\n",
       "    <tr>\n",
       "      <th>4</th>\n",
       "      <td>5-0000000408448</td>\n",
       "      <td>2A1CD3FE-5907-E711-80E9-3863BB2ED230</td>\n",
       "      <td>51E16092-0BFD-E611-80F1-FC15B428DE24</td>\n",
       "      <td>180</td>\n",
       "      <td>Completed</td>\n",
       "      <td>Completed</td>\n",
       "      <td>NaN</td>\n",
       "      <td>Internal</td>\n",
       "      <td>A - Missing information from customer - Confir...</td>\n",
       "      <td>Submitter (Contact)</td>\n",
       "      <td>2017-03-12 19:28:00</td>\n",
       "      <td>2017-03-12 22:42:43</td>\n",
       "      <td>0</td>\n",
       "      <td>NaN</td>\n",
       "      <td>2017-03-12 22:42:43</td>\n",
       "      <td>NaN</td>\n",
       "    </tr>\n",
       "  </tbody>\n",
       "</table>\n",
       "</div>"
      ],
      "text/plain": [
       "      TicketNumber                            ActivityId  \\\n",
       "0  5-0000000464223  28E0D3AE-0907-E711-80E9-3863BB2ED230   \n",
       "1  5-0000000418488  79A45B63-3507-E711-80E9-3863BB2ED230   \n",
       "2  5-0000000402148  241CB04D-3907-E711-80E9-3863BB2ED230   \n",
       "3  5-0000000463272  996E4A98-5407-E711-80E9-3863BB2ED230   \n",
       "4  5-0000000408448  2A1CD3FE-5907-E711-80E9-3863BB2ED230   \n",
       "\n",
       "                      RegardingObjectId  HoldDuration Statuscode  Statecode  \\\n",
       "0  2058B401-7A06-E711-80F3-FC15B428DE24          4620  Completed  Completed   \n",
       "1  54A3CC57-50FE-E611-80F1-FC15B428DE24             0       Open       Open   \n",
       "2  60D07540-BBFA-E611-80F6-FC15B4289B54           120  Completed  Completed   \n",
       "3  905C98C5-CB05-E711-80F3-FC15B4284D68          3300  Completed  Completed   \n",
       "4  51E16092-0BFD-E611-80F1-FC15B428DE24           180  Completed  Completed   \n",
       "\n",
       "   TimeZoneRuleVersionNumber HoldTypeName  \\\n",
       "0                        NaN    3rd Party   \n",
       "1                        NaN     Customer   \n",
       "2                        0.0     Customer   \n",
       "3                        0.0     Internal   \n",
       "4                        NaN     Internal   \n",
       "\n",
       "                                              Reason      AssignedToGroup  \\\n",
       "0                          Trade - Trade Status Hold             Internal   \n",
       "1                                        Price Error  Submitter (Contact)   \n",
       "2                                    PO Number Error  Submitter (Contact)   \n",
       "3                          Internal Hold - Team Lead  Submitter (Contact)   \n",
       "4  A - Missing information from customer - Confir...  Submitter (Contact)   \n",
       "\n",
       "             StartTime              EndTime  IsThreeStrikeRule HoldSubReason  \\\n",
       "0  2017-03-12 09:53:03  2017-03-15 14:16:17                  0           NaN   \n",
       "1  2017-03-12 15:05:55                  NaN                  0           NaN   \n",
       "2  2017-03-12 15:33:56  2017-03-12 17:18:02                  0           NaN   \n",
       "3  2017-03-12 18:49:25  2017-03-15 01:46:18                  0           NaN   \n",
       "4  2017-03-12 19:28:00  2017-03-12 22:42:43                  0           NaN   \n",
       "\n",
       "           Modified_On  Deleted  \n",
       "0  2017-03-15 14:16:17      NaN  \n",
       "1  2017-03-12 15:05:55      NaN  \n",
       "2  2017-03-28 06:15:33      NaN  \n",
       "3  2017-03-15 01:46:18      NaN  \n",
       "4  2017-03-12 22:42:43      NaN  "
      ]
     },
     "execution_count": 5,
     "metadata": {},
     "output_type": "execute_result"
    }
   ],
   "source": [
    "dfholdactivity.head()"
   ]
  },
  {
   "cell_type": "code",
   "execution_count": 30,
   "metadata": {
    "collapsed": true,
    "scrolled": true
   },
   "outputs": [
    {
     "name": "stdout",
     "output_type": "stream",
     "text": [
      "12372\n"
     ]
    },
    {
     "data": {
      "text/plain": [
       "27       5-0000000464841\n",
       "31       5-0000000465163\n",
       "34       5-0000000465336\n",
       "35       5-0000000465695\n",
       "36       5-0000000465873\n",
       "38       5-0000000465899\n",
       "39       5-0000000465949\n",
       "42       5-0000000466189\n",
       "45       5-0000000466657\n",
       "46       5-0000000466686\n",
       "47       5-0000000466962\n",
       "54       5-0000000467611\n",
       "57       5-0000000468058\n",
       "58       5-0000000468105\n",
       "59       5-0000000468289\n",
       "60       5-0000000468327\n",
       "61       5-0000000468401\n",
       "62       5-0000000468461\n",
       "63       5-0000000468539\n",
       "67       5-0000000468738\n",
       "74       5-0000000469068\n",
       "76       5-0000000469571\n",
       "82       5-0000000469897\n",
       "88       5-0000000470295\n",
       "89       5-0000000470321\n",
       "90       5-0000000470369\n",
       "96       5-0000000470716\n",
       "98       5-0000000470822\n",
       "100      5-0000000471093\n",
       "101      5-0000000471233\n",
       "              ...       \n",
       "36047    5-0000000459257\n",
       "36048    5-0000000459307\n",
       "36049    5-0000000459339\n",
       "36050    5-0000000459374\n",
       "36051    5-0000000459388\n",
       "36052    5-0000000459400\n",
       "36054    5-0000000459693\n",
       "36055    5-0000000459719\n",
       "36058    5-0000000460190\n",
       "36071    5-0000000461377\n",
       "36072    5-0000000461437\n",
       "36073    5-0000000461445\n",
       "36074    5-0000000461459\n",
       "36075    5-0000000461472\n",
       "36077    5-0000000461514\n",
       "36078    5-0000000461515\n",
       "36079    5-0000000461520\n",
       "36080    5-0000000461612\n",
       "36081    5-0000000461627\n",
       "36082    5-0000000461633\n",
       "36084    5-0000000461665\n",
       "36086    5-0000000461709\n",
       "36088    5-0000000461803\n",
       "36090    5-0000000461933\n",
       "36095    5-0000000462183\n",
       "36097    5-0000000462327\n",
       "36101    5-0000000462887\n",
       "36107    5-0000000463852\n",
       "36108    5-0000000464215\n",
       "36109    5-0000000464223\n",
       "Name: TicketNumber, Length: 12372, dtype: object"
      ]
     },
     "execution_count": 30,
     "metadata": {},
     "output_type": "execute_result"
    }
   ],
   "source": [
    "ticketlist = dfincident[\"TicketNumber\"][dfincident[\"TicketNumber\"].isin(dfholdactivity[\"TicketNumber\"])].tolist()\n",
    "print(len(ticketlist))\n",
    "dfincident[\"TicketNumber\"][dfincident[\"TicketNumber\"].isin(dfholdactivity[\"TicketNumber\"])]"
   ]
  },
  {
   "cell_type": "markdown",
   "metadata": {},
   "source": [
    "Make new df with unique ticket numbers and summed hold durations"
   ]
  },
  {
   "cell_type": "code",
   "execution_count": 31,
   "metadata": {
    "collapsed": true,
    "scrolled": true
   },
   "outputs": [
    {
     "name": "stdout",
     "output_type": "stream",
     "text": [
      "          TicketNumber  HoldDuration\n",
      "0      5-0000000464223          4620\n",
      "1      5-0000000418488             0\n",
      "2      5-0000000402148         22200\n",
      "3      5-0000000463272          6573\n",
      "4      5-0000000408448         14520\n",
      "5      5-0000000452541         29023\n",
      "6      5-0000000463528          6480\n",
      "7      5-0000000398020          8580\n",
      "8      5-0000000400452          1320\n",
      "9      5-0000000401479        491444\n",
      "10     5-0000000401587        241140\n",
      "11     5-0000000363780         56100\n",
      "12     5-0000000401525          1440\n",
      "13     5-0000000384901         11220\n",
      "14     5-0000000403064        242169\n",
      "15     5-0000000407607         37680\n",
      "16     5-0000000458962          9840\n",
      "17     5-0000000398891         63531\n",
      "18     5-0000000456392          9540\n",
      "19     5-0000000409022         22740\n",
      "20     5-0000000409674          6840\n",
      "21     5-0000000414855          6231\n",
      "22     5-0000000415659         47880\n",
      "23     5-0000000415827         17820\n",
      "24     5-0000000454208          8460\n",
      "25     5-0000000402882         10260\n",
      "26     5-0000000416276         38640\n",
      "27     5-0000000454219          8400\n",
      "28     5-0000000454212          7260\n",
      "29     5-0000000416428         76109\n",
      "...                ...           ...\n",
      "12343  5-0000000457545         17880\n",
      "12344  5-0000000433261         26460\n",
      "12345  5-0000000438802          6060\n",
      "12346  5-0000000432675          6000\n",
      "12347  5-0000000438953         17340\n",
      "12348  5-0000000440568          5880\n",
      "12349  5-0000000440576          5880\n",
      "12350  5-0000000458079         31500\n",
      "12351  5-0000000440562          5880\n",
      "12352  5-0000000440561          5820\n",
      "12353  5-0000000457242          5820\n",
      "12354  5-0000000440376         16080\n",
      "12355  5-0000000440237          5880\n",
      "12356  5-0000000438719          4620\n",
      "12357  5-0000000440652          5820\n",
      "12358  5-0000000438689          5760\n",
      "12359  5-0000000438668          5760\n",
      "12360  5-0000000456564          5820\n",
      "12361  5-0000000428109         24960\n",
      "12362  5-0000000453075         21540\n",
      "12363  5-0000000434613          4080\n",
      "12364  5-0000000452145          5820\n",
      "12365  5-0000000432313         20700\n",
      "12366  5-0000000422353          1261\n",
      "12367  5-0000000446942          5640\n",
      "12368  5-0000000454974         20280\n",
      "12369  5-0000000464215          2880\n",
      "12370  5-0000000414517             0\n",
      "12371  5-0000000420843            60\n",
      "12372  5-0000000422195          4440\n",
      "\n",
      "[12373 rows x 2 columns]\n"
     ]
    }
   ],
   "source": [
    "uniques = dfholdactivity[\"TicketNumber\"].unique()\n",
    "dfduration = pd.DataFrame(dfholdactivity[\"TicketNumber\"].unique(), columns=[\"TicketNumber\"])\n",
    "dfduration[\"HoldDuration\"] = 0\n",
    "for ticket in uniques:\n",
    "    duration = dfholdactivity.loc[dfholdactivity[\"TicketNumber\"] == ticket, 'HoldDuration'].sum()\n",
    "    dfduration.loc[dfduration[\"TicketNumber\"] == ticket, \"HoldDuration\"] = duration\n",
    "print(dfduration)"
   ]
  },
  {
   "cell_type": "code",
   "execution_count": 32,
   "metadata": {
    "collapsed": false
   },
   "outputs": [],
   "source": [
    "dfincident = dfincident.merge(dfduration,how='left', left_on='TicketNumber', right_on='TicketNumber')"
   ]
  },
  {
   "cell_type": "code",
   "execution_count": 33,
   "metadata": {
    "collapsed": false,
    "scrolled": true
   },
   "outputs": [
    {
     "data": {
      "text/plain": [
       "0"
      ]
     },
     "execution_count": 33,
     "metadata": {},
     "output_type": "execute_result"
    }
   ],
   "source": [
    "dfincident[\"HoldDuration\"].fillna(0, inplace=True)\n",
    "dfincident[\"HoldDuration\"].isnull().sum()"
   ]
  },
  {
   "cell_type": "code",
   "execution_count": 34,
   "metadata": {
    "collapsed": false
   },
   "outputs": [],
   "source": [
    "dfincident.to_csv(\"../../../Data/vw_Incident(HoldDuration).csv\", index=False)"
   ]
  },
  {
   "cell_type": "markdown",
   "metadata": {},
   "source": [
    "# Histogram of HoldDuration"
   ]
  },
  {
   "cell_type": "code",
   "execution_count": 122,
   "metadata": {
    "collapsed": false
   },
   "outputs": [
    {
     "data": {
      "image/png": "[encoded data removed]",
      "text/plain": [
       "<matplotlib.figure.Figure at 0x1e8d97ac668>"
      ]
     },
     "metadata": {},
     "output_type": "display_data"
    }
   ],
   "source": [
    "dfincident[\"HoldDuration\"].hist()\n",
    "plt.title(\"HoldDuration Histogram\")\n",
    "plt.xlabel(\"Seconds\")\n",
    "plt.ylabel(\"Frequency\")\n",
    "plt.savefig(\"../0. Results/Kieron/ABT_Incident_Hold/HoldDuration_Histogram_all.pdf\")\n",
    "plt.savefig(\"../0. Results/Kieron/ABT_Incident_Hold/HoldDuration_Histogram_all.png\")\n",
    "plt.show()"
   ]
  },
  {
   "cell_type": "code",
   "execution_count": 174,
   "metadata": {
    "collapsed": false
   },
   "outputs": [
    {
     "name": "stdout",
     "output_type": "stream",
     "text": [
      "Length of dataframe =  36114\n",
      "Number of HoldDurations equal to 0 =  24581\n",
      "Proportion of HoldDurations equal to 0 = 0.68\n"
     ]
    }
   ],
   "source": [
    "print(\"Length of dataframe = \", len(dfincident))\n",
    "print(\"Number of HoldDurations equal to 0 = \", len(dfincident[\"HoldDuration\"][dfincident[\"HoldDuration\"]==0]))\n",
    "perc0 = len(dfincident[\"HoldDuration\"][dfincident[\"HoldDuration\"]==0])/len(dfincident)\n",
    "print(\"Proportion of HoldDurations equal to 0 = %.2f\" % (perc0))"
   ]
  },
  {
   "cell_type": "code",
   "execution_count": 179,
   "metadata": {
    "collapsed": false
   },
   "outputs": [
    {
     "name": "stdout",
     "output_type": "stream",
     "text": [
      "11532\n",
      "0.3193221465359694\n"
     ]
    },
    {
     "data": {
      "image/png": "[encoded data removed]",
      "text/plain": [
       "<matplotlib.figure.Figure at 0x1e8d942fe80>"
      ]
     },
     "metadata": {},
     "output_type": "display_data"
    }
   ],
   "source": [
    "print(len(dfincident[\"HoldDuration\"][dfincident[\"HoldDuration\"]>0]))\n",
    "print(len(dfincident[\"HoldDuration\"][dfincident[\"HoldDuration\"]>0])/len(dfincident))\n",
    "dfincident[\"HoldDuration\"][dfincident[\"HoldDuration\"]>0].hist()\n",
    "# plt.xlim(0,100000)\n",
    "plt.title(\"HoldDuration > 0\")\n",
    "plt.xlabel(\"Seconds\")\n",
    "plt.ylabel(\"Frequency\")\n",
    "plt.savefig(\"../0. Results/Kieron/ABT_Incident_Hold/HoldDuration_Histogram_not0.pdf\")\n",
    "plt.savefig(\"../0. Results/Kieron/ABT_Incident_Hold/HoldDuration_Histogram_not0.png\")\n",
    "plt.show()"
   ]
  },
  {
   "cell_type": "code",
   "execution_count": 180,
   "metadata": {
    "collapsed": false
   },
   "outputs": [
    {
     "name": "stdout",
     "output_type": "stream",
     "text": [
      "11250\n",
      "0.3115135404552251\n"
     ]
    },
    {
     "data": {
      "image/png": "[encoded data removed]",
      "text/plain": [
       "<matplotlib.figure.Figure at 0x1e8e1eecc18>"
      ]
     },
     "metadata": {},
     "output_type": "display_data"
    }
   ],
   "source": [
    "print(len(dfincident[\"HoldDuration\"][(dfincident[\"HoldDuration\"]<86400) & (dfincident[\"HoldDuration\"]>0)]))\n",
    "print(len(dfincident[\"HoldDuration\"][(dfincident[\"HoldDuration\"]<86400) & (dfincident[\"HoldDuration\"]>0)])/len(dfincident))\n",
    "dfincident[\"HoldDuration\"][(dfincident[\"HoldDuration\"]<86400) & (dfincident[\"HoldDuration\"]>0)].hist()\n",
    "plt.title(\"0 > HoldDuration > 24 hours (86400 seconds)\")\n",
    "plt.xlabel(\"Seconds\")\n",
    "plt.ylabel(\"Frequency\")\n",
    "plt.savefig(\"../0. Results/Kieron/ABT_Incident_Hold/HoldDuration_Histogram_20000.pdf\")\n",
    "plt.savefig(\"../0. Results/Kieron/ABT_Incident_Hold/HoldDuration_Histogram_20000.png\")\n",
    "plt.show()"
   ]
  },
  {
   "cell_type": "code",
   "execution_count": 183,
   "metadata": {
    "collapsed": false
   },
   "outputs": [
    {
     "name": "stdout",
     "output_type": "stream",
     "text": [
      "9474\n",
      "0.26233593620202694\n"
     ]
    },
    {
     "data": {
      "image/png": "[encoded data removed]",
      "text/plain": [
       "<matplotlib.figure.Figure at 0x1e8d940c748>"
      ]
     },
     "metadata": {},
     "output_type": "display_data"
    }
   ],
   "source": [
    "print(len(dfincident[\"HoldDuration\"][(dfincident[\"HoldDuration\"]<20000) & (dfincident[\"HoldDuration\"]>0)]))\n",
    "print(len(dfincident[\"HoldDuration\"][(dfincident[\"HoldDuration\"]<20000) & (dfincident[\"HoldDuration\"]>0)])/len(dfincident))\n",
    "dfincident[\"HoldDuration\"][(dfincident[\"HoldDuration\"]<20000) & (dfincident[\"HoldDuration\"]>0)].hist()\n",
    "plt.title(\"0 > HoldDuration > 5 hours (20000 seconds)\")\n",
    "plt.xlabel(\"Seconds\")\n",
    "plt.ylabel(\"Frequency\")\n",
    "plt.savefig(\"../0. Results/Kieron/ABT_Incident_Hold/HoldDuration_Histogram_20000.pdf\")\n",
    "plt.savefig(\"../0. Results/Kieron/ABT_Incident_Hold/HoldDuration_Histogram_20000.png\")\n",
    "plt.show()"
   ]
  },
  {
   "cell_type": "code",
   "execution_count": 184,
   "metadata": {
    "collapsed": false
   },
   "outputs": [
    {
     "name": "stdout",
     "output_type": "stream",
     "text": [
      "6818\n",
      "0.18879105056210888\n"
     ]
    },
    {
     "data": {
      "image/png": "[encoded data removed]",
      "text/plain": [
       "<matplotlib.figure.Figure at 0x1e8df758588>"
      ]
     },
     "metadata": {},
     "output_type": "display_data"
    }
   ],
   "source": [
    "print(len(dfincident[\"HoldDuration\"][(dfincident[\"HoldDuration\"]<7200) & (dfincident[\"HoldDuration\"]>0)]))\n",
    "print(len(dfincident[\"HoldDuration\"][(dfincident[\"HoldDuration\"]<7200) & (dfincident[\"HoldDuration\"]>0)])/len(dfincident))\n",
    "dfincident[\"HoldDuration\"][(dfincident[\"HoldDuration\"]<7200) & (dfincident[\"HoldDuration\"]>0)].hist()\n",
    "plt.title(\"0 > HoldDuration > 2 Hours (7200 seconds)\")\n",
    "plt.xlabel(\"Seconds\")\n",
    "plt.ylabel(\"Frequency\")\n",
    "plt.savefig(\"../0. Results/Kieron/ABT_Incident_Hold/HoldDuration_Histogram_5000.pdf\")\n",
    "plt.savefig(\"../0. Results/Kieron/ABT_Incident_Hold/HoldDuration_Histogram_5000.png\")\n",
    "plt.show()"
   ]
  },
  {
   "cell_type": "code",
   "execution_count": 185,
   "metadata": {
    "collapsed": false
   },
   "outputs": [
    {
     "name": "stdout",
     "output_type": "stream",
     "text": [
      "1950\n",
      "0.05399568034557235\n"
     ]
    },
    {
     "data": {
      "image/png": "[encoded data removed]",
      "text/plain": [
       "<matplotlib.figure.Figure at 0x1e8df7d1390>"
      ]
     },
     "metadata": {},
     "output_type": "display_data"
    }
   ],
   "source": [
    "print(len(dfincident[\"HoldDuration\"][(dfincident[\"HoldDuration\"]<1000) & (dfincident[\"HoldDuration\"]>0)]))\n",
    "print(len(dfincident[\"HoldDuration\"][(dfincident[\"HoldDuration\"]<1000) & (dfincident[\"HoldDuration\"]>0)])/len(dfincident))\n",
    "dfincident[\"HoldDuration\"][(dfincident[\"HoldDuration\"]<1000) & (dfincident[\"HoldDuration\"]>0)].hist()\n",
    "plt.title(\"HoldDuration Histogram < 16 minutes (1000 seconds)\")\n",
    "plt.xlabel(\"Seconds\")\n",
    "plt.ylabel(\"Frequency\")\n",
    "plt.savefig(\"../0. Results/Kieron/ABT_Incident_Hold/HoldDuration_Histogram_5000.pdf\")\n",
    "plt.savefig(\"../0. Results/Kieron/ABT_Incident_Hold/HoldDuration_Histogram_5000.png\")\n",
    "plt.show()"
   ]
  }
 ],
 "metadata": {
  "kernelspec": {
   "display_name": "Python 3",
   "language": "python",
   "name": "python3"
  },
  "language_info": {
   "codemirror_mode": {
    "name": "ipython",
    "version": 3.0
   },
   "file_extension": ".py",
   "mimetype": "text/x-python",
   "name": "python",
   "nbconvert_exporter": "python",
   "pygments_lexer": "ipython3",
   "version": "3.5.2"
  }
 },
 "nbformat": 4,
 "nbformat_minor": 0
}