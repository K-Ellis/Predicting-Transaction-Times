{
 "cells": [
  {
   "cell_type": "code",
   "execution_count": 9,
   "metadata": {
    "collapsed": false
   },
   "outputs": [],
   "source": [
    "import pandas as pd\n",
    "ABT = pd.read_csv(\"../../../Data/ABT.csv\",encoding='latin-1',low_memory=False)\n",
    "ABThold = pd.read_csv(\"../../../Data/ABT1.csv\",encoding='latin-1',low_memory=False)\n",
    "ABTaud = pd.read_csv(\"../../../Data/ABT2.csv\",encoding='latin-1',low_memory=False)\n",
    "ABTpac = pd.read_csv(\"../../../Data/ABT3.csv\",encoding='latin-1',low_memory=False)\n",
    "dflist = [ABT, ABThold, ABTaud, ABTpac]"
   ]
  },
  {
   "cell_type": "code",
   "execution_count": 29,
   "metadata": {
    "collapsed": false
   },
   "outputs": [
    {
     "name": "stdout",
     "output_type": "stream",
     "text": [
      "20045 20045\n",
      "10225 10225\n",
      "15620 15620\n",
      "20154 20154\n"
     ]
    }
   ],
   "source": [
    "for df in dflist:\n",
    "    print(len(df[\"TicketNumber\"]), len(df[\"TicketNumber\"].unique()))"
   ]
  },
  {
   "cell_type": "code",
   "execution_count": 65,
   "metadata": {
    "collapsed": false,
    "scrolled": true
   },
   "outputs": [
    {
     "name": "stdout",
     "output_type": "stream",
     "text": [
      "[0, 15429, 15429, 15429, 15429, 15429, 15429, 15429, 15429, 15429, 15429, 15429, 15429, 15429, 15429, 15429, 15429, 15429, 15429, 15429, 15429, 15429, 15429, 15429, 15429, 15429, 15429, 15429, 15429, 15429, 15429, 15429, 15429, 15429, 15429, 15429, 15429, 15429, 15429, 15429, 15429, 15429, 15429, 15429, 15429, 15429, 15429, 15429, 15429, 15429, 15429, 15429, 15429, 15429, 15429, 15429, 15429, 15429, 15429, 15429, 15429, 15429, 15429, 15429, 15429, 15429, 15429, 15429, 15429, 15429, 15429, 15429, 15429, 15429, 15429, 15429, 15429, 15429, 15429, 15429, 15429, 15429, 15429, 15429, 15429, 15429, 15429, 15429, 15429, 15429, 15429, 15429, 15429, 15429, 15429, 15429, 15429, 15429, 15429, 15429, 15429, 15429, 15429, 15429, 15429, 15429, 15429, 15429, 15429, 15429, 15429, 15429, 15429, 15429, 15429, 15429, 15429, 15429, 15429, 15429, 15429, 15429, 15429, 15429, 15429, 15429, 15429, 15429, 15429, 15429, 15429, 15429, 15429, 15429, 15429, 15429, 15429, 15429, 15429, 15429, 15429, 15429, 15429, 15429, 15429, 15429, 15429, 15429, 15429, 15429, 15429, 15429, 15429, 15429, 15429, 15429, 15429, 15429, 15429, 15429, 15429, 15429, 15429, 15429, 15429, 15429, 15429, 15429, 15429, 15429, 15429, 15429, 15429, 15429, 15429, 15429, 15429, 15429, 15429, 15429, 15429, 15429, 15429, 15429, 15429, 15429, 15429, 15429, 15429, 15429, 15429, 15429, 15429, 15429, 15429, 15429, 15429, 15429, 15429, 15429, 15429, 15429, 15429, 15429, 15429, 15429, 15429, 15429, 15429, 15429, 15429, 15429, 15429, 15429, 15429, 15429, 15429, 15429, 15429, 15429, 15429, 15429, 15429, 15429, 15429, 15429, 15429, 15429, 15429, 15429, 15429, 15429, 15429, 15429, 15429, 15429, 15429, 15429, 15429, 15429, 15429, 15429, 15429, 15429, 15429, 15429, 15429, 15429, 15429, 15429, 15429, 15429, 15429, 15429, 15429, 15429, 15429, 15429, 15429, 15429, 15429, 15429, 15429, 15429, 15429, 15429, 15429, 15429, 15429, 15429, 15429, 15429, 15429, 15429, 15429, 6932, 6932, 6932, 6932, 6932, 6932, 6932, 6932, 6887, 6887, 6887, 6887, 6887, 6887, 6887, 6887, 6887, 6887, 6887, 6887, 6887, 6887, 6887, 6887, 6887, 6887, 6887, 6887, 6887, 6887, 6887, 6887, 6887, 6887, 6887, 6887, 6887, 6887, 6887, 6887, 6887, 6887, 6887, 6887, 6887, 6887, 6887, 6887, 6887, 6887, 6887, 6887, 6887, 6887, 6887, 6887, 6887, 6887, 6887, 6887, 6887, 6887, 6887, 6887, 6887, 6887, 6887, 6887, 6887, 6887, 6887, 6887, 6887, 6887, 6887, 6887, 6887, 6887, 6887, 6887, 6887, 6887, 6887, 6887, 6887, 6887, 0, 0, 0, 0, 0, 0, 0, 0, 0, 0, 0, 0, 0, 0, 0, 0, 0, 0, 0, 0, 0, 0, 0, 0, 0, 0, 0, 0, 0, 0, 0, 0, 0, 0, 0, 0, 0, 0, 0, 0, 0, 0, 0, 0, 0, 0, 0, 0, 0, 0, 0, 0, 0, 0, 0, 0, 0, 0, 0, 0, 0, 0, 0, 0, 0, 0, 0, 0, 0, 0, 0, 0, 0, 0, 0, 0, 0, 0]\n",
      "[0, 0, 0, 0, 0, 0, 0, 0, 0, 0, 0, 0, 0, 0, 0, 0, 0, 0, 0, 0, 0, 0, 0, 0, 0, 0, 0, 0, 0, 0, 0, 0, 0, 0, 0, 0, 0, 0, 0, 0, 0, 0, 0, 0, 0, 0, 0, 0, 0, 0, 0, 0, 0, 0, 0, 0, 0, 0, 0, 0, 0, 0, 0, 0, 0, 0, 0, 0, 0, 0, 0, 0, 0, 0, 0, 0, 0, 0, 0, 0, 0, 0, 0, 0, 0, 0, 0, 0, 0, 0, 0, 0, 0, 0, 0, 0, 0, 0, 0, 0, 0, 0, 0, 0, 0, 0, 0, 0, 0, 0, 0, 0, 0, 0, 0, 0, 0, 0, 0, 0, 0, 0, 0, 0, 0, 0, 0, 0, 0, 0, 0, 0, 0, 0, 0, 0, 0, 0, 0, 0, 0, 0, 0, 0, 0, 0, 0, 0, 0, 0, 0, 0, 0, 0, 0, 0, 0, 0, 0, 0, 0, 0, 0, 0, 0, 0, 0, 0, 0, 0, 0, 0, 0, 0, 0, 0, 0, 0, 0, 0, 0, 0, 0, 0, 0, 0, 0, 0, 0, 0, 0, 0, 0, 0, 0, 0, 0, 0, 0, 0, 0, 0, 0, 0, 0, 0, 0, 0, 0, 0, 0, 0, 0, 0, 0, 0, 0, 0, 0, 0, 0, 0, 0, 0, 0, 0, 0, 0, 0, 0, 0, 0, 0, 0, 0, 0, 0, 0, 0, 0, 0, 0, 0, 0, 0, 0, 0, 0, 0, 0, 0, 0, 0, 0, 0, 0, 0, 0, 0, 0, 0, 0, 0, 0, 0, 0, 0, 0, 0, 0, 0, 0, 0, 0, 0]\n",
      "[0, 0, 0, 0, 0, 0, 0, 0, 0]\n",
      "[0, 0, 0, 0, 0, 0, 0, 0, 0, 0, 0, 0, 0, 0, 0, 0, 0, 0, 0, 0, 0, 0, 0, 0, 0, 0, 0, 0, 0, 0, 0, 0, 0, 0, 0, 0, 0, 0, 0, 0, 0, 0, 0, 0, 0, 0, 0, 0, 0, 0, 0, 0, 0, 0, 0, 0, 0, 0, 0, 0, 0, 0, 0, 0, 0, 0, 0, 0, 0, 0, 0, 0, 0, 0, 0, 0, 0, 0, 0]\n"
     ]
    }
   ],
   "source": [
    "for df in dflist:\n",
    "    print(df.isnull().sum().tolist())"
   ]
  },
  {
   "cell_type": "code",
   "execution_count": 39,
   "metadata": {
    "collapsed": false
   },
   "outputs": [],
   "source": [
    "dfincident = pd.read_csv(\"../../../Data/vw_Incident_cleaned(with_TicketNumber).csv\",encoding='latin-1',low_memory=False)\n",
    "dfholdactivity = pd.read_csv(\"../../../Data/vw_HoldActivity_cleaned.csv\",encoding='latin-1',low_memory=False)\n",
    "dfaudithistory = pd.read_csv(\"../../../Data/vw_AuditHistory_cleaned.csv\",encoding='latin-1',low_memory=False)\n",
    "dfpackagetiageetry = pd.read_csv(\"../../../Data/vw_PackageTriageEntry_cleaned.csv\",encoding='latin-1',low_memory=False)\n",
    "dfcleanedlist = [dfincident, dfholdactivity, dfaudithistory, dfpackagetiageetry]"
   ]
  },
  {
   "cell_type": "code",
   "execution_count": 56,
   "metadata": {
    "collapsed": false
   },
   "outputs": [
    {
     "name": "stdout",
     "output_type": "stream",
     "text": [
      "20045 - 20045 = 0\n",
      "20264 - 10225 = 10039\n",
      "62892 - 15620 = 47272\n",
      "20894 - 20154 = 740\n"
     ]
    }
   ],
   "source": [
    "for df in dfcleanedlist:\n",
    "    print(\"%d - %d = %d\"%(len(df[\"TicketNumber\"]),len(df[\"TicketNumber\"].unique()), \n",
    "                              len(df[\"TicketNumber\"])-len(df[\"TicketNumber\"].unique())))"
   ]
  },
  {
   "cell_type": "code",
   "execution_count": 18,
   "metadata": {
    "collapsed": false
   },
   "outputs": [
    {
     "name": "stdout",
     "output_type": "stream",
     "text": [
      "20045\n"
     ]
    }
   ],
   "source": [
    "# merge the dfs together\n",
    "finalABT = ABThold.merge(dfincident, how='right', left_on='TicketNumber', right_on='TicketNumber')\n",
    "finalABT = ABTaud.merge(finalABT, how='right', left_on='TicketNumber', right_on='TicketNumber')\n",
    "finalABT = ABTpac.merge(finalABT, how='right', left_on='TicketNumber', right_on='TicketNumber')\n",
    "print(len(finalABT[\"TicketNumber\"]))"
   ]
  },
  {
   "cell_type": "code",
   "execution_count": 66,
   "metadata": {
    "collapsed": false
   },
   "outputs": [
    {
     "name": "stdout",
     "output_type": "stream",
     "text": [
      "[0, 6887, 6887, 6887, 6887, 6887, 6887, 6887, 6887, 6887, 6887, 6887, 6887, 6887, 6887, 6887, 6887, 6887, 6887, 6887, 6887, 6887, 6887, 6887, 6887, 6887, 6887, 6887, 6887, 6887, 6887, 6887, 6887, 6887, 6887, 6887, 6887, 6887, 6887, 6887, 6887, 6887, 6887, 6887, 6887, 6887, 6887, 6887, 6887, 6887, 6887, 6887, 6887, 6887, 6887, 6887, 6887, 6887, 6887, 6887, 6887, 6887, 6887, 6887, 6887, 6887, 6887, 6887, 6887, 6887, 6887, 6887, 6887, 6887, 6887, 6887, 6887, 6887, 6887, 6927, 6927, 6927, 6927, 6927, 6927, 6927, 6927, 14055, 14055, 14055, 14055, 14055, 14055, 14055, 14055, 14055, 14055, 14055, 14055, 14055, 14055, 14055, 14055, 14055, 14055, 14055, 14055, 14055, 14055, 14055, 14055, 14055, 14055, 14055, 14055, 14055, 14055, 14055, 14055, 14055, 14055, 14055, 14055, 14055, 14055, 14055, 14055, 14055, 14055, 14055, 14055, 14055, 14055, 14055, 14055, 14055, 14055, 14055, 14055, 14055, 14055, 14055, 14055, 14055, 14055, 14055, 14055, 14055, 14055, 14055, 14055, 14055, 14055, 14055, 14055, 14055, 14055, 14055, 14055, 14055, 14055, 14055, 14055, 14055, 14055, 14055, 14055, 14055, 14055, 14055, 14055, 14055, 14055, 14055, 14055, 14055, 14055, 14055, 14055, 14055, 14055, 14055, 14055, 14055, 14055, 14055, 14055, 14055, 14055, 14055, 14055, 14055, 14055, 14055, 14055, 14055, 14055, 14055, 14055, 14055, 14055, 14055, 14055, 14055, 14055, 14055, 14055, 14055, 14055, 14055, 14055, 14055, 14055, 14055, 14055, 14055, 14055, 14055, 14055, 14055, 14055, 14055, 14055, 14055, 14055, 14055, 14055, 14055, 14055, 14055, 14055, 14055, 14055, 14055, 14055, 14055, 14055, 14055, 14055, 14055, 14055, 14055, 14055, 14055, 14055, 14055, 14055, 14055, 14055, 14055, 14055, 14055, 14055, 14055, 14055, 14055, 14055, 14055, 14055, 14055, 14055, 14055, 14055, 14055, 14055, 14055, 14055, 14055, 14055, 14055, 14055, 14055, 14055, 14055, 14055, 14055, 14055, 14055, 14055, 14055, 14055, 14055, 14055, 14055, 14055, 14055, 14055, 14055, 14055, 14055, 14055, 14055, 14055, 14055, 14055, 14055, 14055, 14055, 14055, 14055, 14055, 14055, 14055, 14055, 14055, 14055, 14055, 14055, 14055, 14055, 14055, 14055, 14055, 14055, 14055, 14055, 14055, 14055, 14055, 14055, 14055, 14055, 14055, 14055, 14055, 14055, 14055, 14055, 14055, 14055, 14055, 14055, 14055, 14055, 14055, 14055, 14055, 14055, 14055, 14055, 14055, 14055, 14055, 14055, 14055, 14055, 14055, 14055, 14055, 14055, 14055, 14055, 14055, 14055, 14055, 14055, 14055, 14055, 14055, 14055, 14055, 0, 0, 0, 0, 0, 0, 0, 0, 0, 0, 0, 0, 0, 0, 0, 0, 0, 0, 0, 0, 0, 0, 0, 0, 0, 0, 0, 0, 0, 0, 0, 0, 0, 0, 0, 0, 0, 0, 0, 0, 0, 0, 0, 0, 0, 0, 0, 0, 0, 0, 0, 0, 0, 0, 0, 0, 0, 0, 0, 0, 0, 0, 0, 0, 0, 0, 0, 0, 0, 0, 0, 0, 0, 0, 0]\n"
     ]
    }
   ],
   "source": [
    "print(finalABT.isnull().sum().tolist())"
   ]
  },
  {
   "cell_type": "markdown",
   "metadata": {},
   "source": [
    "# Merge and export dfs"
   ]
  },
  {
   "cell_type": "code",
   "execution_count": 36,
   "metadata": {
    "collapsed": true
   },
   "outputs": [],
   "source": [
    "# del finalABT[\"TicketNumber\"]\n",
    "finalABT_filled = finalABT.fillna(0)\n",
    "finalABT_dropped = finalABT.dropna()\n",
    "del finalABT_filled[\"TicketNumber\"]\n",
    "del finalABT_dropped[\"TicketNumber\"]\n",
    "finalABT_filled.to_csv(\"../../../Data/ABT_filled.csv\", index=False)\n",
    "finalABT_dropped.to_csv(\"../../../Data/ABT_dropped.csv\", index=False)"
   ]
  },
  {
   "cell_type": "code",
   "execution_count": 60,
   "metadata": {
    "collapsed": false
   },
   "outputs": [],
   "source": [
    "# hold activity info merged with incident\n",
    "ABT_HOLD = ABThold.merge(dfincident, how='right', left_on='TicketNumber', right_on='TicketNumber')\n",
    "del ABT_HOLD[\"TicketNumber\"]\n",
    "ABT_HOLD_dropped = ABT_HOLD.dropna()\n",
    "ABT_HOLD_dropped.to_csv(\"../../../Data/ABT_HOLD_dropped.csv\", index=False)\n",
    "ABT_HOLD_filled = ABT_HOLD.fillna(0)\n",
    "ABT_HOLD_filled.to_csv(\"../../../Data/ABT_HOLD_filled.csv\", index=False)"
   ]
  },
  {
   "cell_type": "code",
   "execution_count": 61,
   "metadata": {
    "collapsed": true
   },
   "outputs": [],
   "source": [
    "# audit history info merged with incident\n",
    "ABT_AUD = ABTaud.merge(dfincident, how='right', left_on='TicketNumber', right_on='TicketNumber')\n",
    "del ABT_AUD[\"TicketNumber\"]\n",
    "ABT_AUD_dropped = ABT_AUD.dropna()\n",
    "ABT_AUD_dropped.to_csv(\"../../../Data/ABT_AUD_dropped.csv\", index=False)\n",
    "ABT_AUD_filled = ABT_AUD.fillna(0)\n",
    "ABT_AUD_filled.to_csv(\"../../../Data/ABT_AUD_filled.csv\", index=False)"
   ]
  },
  {
   "cell_type": "code",
   "execution_count": 37,
   "metadata": {
    "collapsed": true
   },
   "outputs": [],
   "source": [
    "# package triage info\n",
    "ABT_PAC = ABTpac.merge(dfincident, how='right', left_on='TicketNumber', right_on='TicketNumber')\n",
    "del ABT_PAC[\"TicketNumber\"]\n",
    "ABT_PAC_dropped = ABT_PAC.dropna()\n",
    "ABT_PAC_dropped.to_csv(\"../../../Data/ABT_PAC_dropped.csv\", index=False)\n",
    "ABT_PAC_filled = ABT_PAC.fillna(0)\n",
    "ABT_PAC_filled.to_csv(\"../../../Data/ABT_PAC_filled.csv\", index=False)"
   ]
  },
  {
   "cell_type": "code",
   "execution_count": 84,
   "metadata": {
    "collapsed": true
   },
   "outputs": [],
   "source": [
    "# audit history and hold activity info merged with incident\n",
    "ABT_HOLD_AUD = ABTaud.merge(dfincident, how='right', left_on='TicketNumber', right_on='TicketNumber')\n",
    "ABT_HOLD_AUD = ABThold.merge(ABT_HOLD_AUD, how='right', left_on='TicketNumber', right_on='TicketNumber')\n",
    "del ABT_HOLD_AUD[\"TicketNumber\"]\n",
    "ABT_HOLD_AUD_dropped = ABT_HOLD_AUD.dropna()\n",
    "ABT_HOLD_AUD_dropped.to_csv(\"../../../Data/ABT_HOLD_AUD_dropped.csv\", index=False)\n",
    "ABT_HOLD_AUD_filled = ABT_HOLD_AUD.fillna(0)\n",
    "ABT_HOLD_AUD_filled.to_csv(\"../../../Data/ABT_HOLD_AUD_filled.csv\", index=False)"
   ]
  },
  {
   "cell_type": "markdown",
   "metadata": {},
   "source": [
    "# explore why there are so many nulls in finalABT"
   ]
  },
  {
   "cell_type": "code",
   "execution_count": 70,
   "metadata": {
    "collapsed": false,
    "scrolled": true
   },
   "outputs": [
    {
     "name": "stdout",
     "output_type": "stream",
     "text": [
      "20045\n"
     ]
    }
   ],
   "source": [
    "print(len(finalABT[\"TicketNumber\"]))"
   ]
  },
  {
   "cell_type": "code",
   "execution_count": 81,
   "metadata": {
    "collapsed": false
   },
   "outputs": [
    {
     "name": "stdout",
     "output_type": "stream",
     "text": [
      "5990\n",
      "14055\n"
     ]
    }
   ],
   "source": [
    "uniques = dfholdactivity[\"TicketNumber\"].unique()\n",
    "uniques_incident = dfincident[\"TicketNumber\"].unique()\n",
    "total = 0\n",
    "for ticket in uniques:\n",
    "    if ticket in uniques_incident:\n",
    "        total+=1\n",
    "print(total)\n",
    "print(len(uniques_incident) - total)"
   ]
  },
  {
   "cell_type": "code",
   "execution_count": 82,
   "metadata": {
    "collapsed": false
   },
   "outputs": [
    {
     "name": "stdout",
     "output_type": "stream",
     "text": [
      "13118\n",
      "6927\n"
     ]
    }
   ],
   "source": [
    "uniques = dfaudithistory[\"TicketNumber\"].unique()\n",
    "uniques_incident = dfincident[\"TicketNumber\"].unique()\n",
    "total = 0\n",
    "for ticket in uniques:\n",
    "    if ticket in uniques_incident:\n",
    "        total+=1\n",
    "print(total)\n",
    "print(len(uniques_incident) - total)"
   ]
  },
  {
   "cell_type": "code",
   "execution_count": 77,
   "metadata": {
    "collapsed": false
   },
   "outputs": [
    {
     "name": "stdout",
     "output_type": "stream",
     "text": [
      "13158\n"
     ]
    }
   ],
   "source": [
    "uniques = dfpackagetiageetry[\"TicketNumber\"].unique()\n",
    "uniques_incident = dfincident[\"TicketNumber\"].unique()\n",
    "total = 0\n",
    "for ticket in uniques:\n",
    "    if ticket in uniques_incident:\n",
    "        total+=1\n",
    "print(total)"
   ]
  },
  {
   "cell_type": "code",
   "execution_count": 80,
   "metadata": {
    "collapsed": false
   },
   "outputs": [
    {
     "name": "stdout",
     "output_type": "stream",
     "text": [
      "6887\n"
     ]
    }
   ],
   "source": [
    "print(len(uniques_incident) - total)"
   ]
  }
 ],
 "metadata": {
  "kernelspec": {
   "display_name": "Python 3",
   "language": "python",
   "name": "python3"
  },
  "language_info": {
   "codemirror_mode": {
    "name": "ipython",
    "version": 3
   },
   "file_extension": ".py",
   "mimetype": "text/x-python",
   "name": "python",
   "nbconvert_exporter": "python",
   "pygments_lexer": "ipython3",
   "version": "3.5.2"
  }
 },
 "nbformat": 4,
 "nbformat_minor": 0
}
