{
 "cells": [
  {
   "cell_type": "code",
   "execution_count": 139,
   "metadata": {
    "collapsed": false
   },
   "outputs": [],
   "source": [
    "import pandas as pd\n",
    "from sklearn import preprocessing, cross_validation, svm\n",
    "from sklearn.ensemble import RandomForestRegressor\n",
    "from sklearn.linear_model import LinearRegression\n",
    "import numpy as np\n",
    "import math"
   ]
  },
  {
   "cell_type": "code",
   "execution_count": 135,
   "metadata": {
    "collapsed": false
   },
   "outputs": [],
   "source": [
    "df = pd.read_csv(\"MSc_Bus_Analytics_VL_COSMIC_Sample_20170330 (1).csv\",encoding='latin-1')\n",
    "del df[\"TicketNumber\"] \n",
    "del df[\"Created_On\"] \n",
    "del df[\"Queue\"] \n",
    "del df[\"BusinessFunction\"] \n",
    "del df[\"LineOfBusiness\"] \n",
    "del df[\"CaseType\"] \n",
    "del df[\"CaseSubTypes\"] \n",
    "del df[\"IsEscalated\"] \n",
    "# del df[\"Receiveddate\"] \n",
    "# del df[\"ResolvedDate\"] \n",
    "df.dropna(inplace=True)\n",
    "\n",
    "# get y\n",
    "df[\"Receiveddate\"] = pd.to_datetime(df[\"Receiveddate\"])\n",
    "df[\"ResolvedDate\"] = pd.to_datetime(df[\"ResolvedDate\"])\n",
    "y = pd.DataFrame()\n",
    "y[\"time_to_complete\"] = (df[\"ResolvedDate\"] - df[\"Receiveddate\"]).astype('timedelta64[m]')\n",
    "del df[\"Receiveddate\"] \n",
    "del df[\"ResolvedDate\"] \n",
    "\n",
    "# get x\n",
    "x = pd.DataFrame()\n",
    "for col in list(df):\n",
    "    dummies = pd.get_dummies(df[col]).iloc[:, 1:]\n",
    "    x = pd.concat([x, dummies], axis = 1)\n",
    "    \n",
    "df = pd.concat([x, y], axis = 1)"
   ]
  },
  {
   "cell_type": "code",
   "execution_count": 129,
   "metadata": {
    "collapsed": false
   },
   "outputs": [],
   "source": [
    "# del df[\"RevenuType\"]\n",
    "# del df[\"StatusReason\"]\n",
    "# del df[\"Priority\"]\n",
    "# del df[\"ValidCase\"]\n",
    "# del df[\"RejectionReason\"]\n",
    "# del df[\"Program\"]\n",
    "# del df[\"Reason\"]\n",
    "# del df[\"SubReason\"]\n",
    "# del df[\"CountrySource\"]\n",
    "# del df[\"CountryProcessed\"]\n",
    "# del df[\"SalesLocation\"]\n",
    "# del df[\"ROCName\"]\n",
    "# del df[\"IsSOXCase\"]"
   ]
  },
  {
   "cell_type": "code",
   "execution_count": 154,
   "metadata": {
    "collapsed": false
   },
   "outputs": [
    {
     "name": "stdout",
     "output_type": "stream",
     "text": [
      "-4.18474728533e+28\n",
      "-0.0580535173215\n",
      "-0.057696038431\n",
      "0.0823450764441\n"
     ]
    }
   ],
   "source": [
    "df.dropna(inplace = True)\n",
    "forecast_out = 10 #int(math.ceil(0.01*len(df)))\n",
    "forecast_col = \"time_to_complete\"\n",
    "df[\"label\"] = df[forecast_col].shift(-forecast_out)\n",
    "X = np.array(df.drop([\"label\"], 1))\n",
    "X = preprocessing.scale(X)\n",
    "X_lately = X[-forecast_out:]\n",
    "X = X[:-forecast_out]\n",
    "\n",
    "df.dropna(inplace = True)\n",
    "\n",
    "Y = np.array(df[\"label\"])\n",
    "\n",
    "X_train, X_test, Y_train, Y_test = cross_validation.train_test_split(X, Y, test_size = 0.2)\n",
    "\n",
    "fns = [LinearRegression(), svm.SVR(), svm.SVR(kernel = \"poly\"), RandomForestRegressor(n_estimators=100)]\n",
    "\n",
    "for fn in fns:\n",
    "    clf = fn\n",
    "    clf.fit(X_train, Y_train)\n",
    "    accuracy = clf.score(X_test, Y_test)\n",
    "    print(accuracy) # directional accuracy"
   ]
  },
  {
   "cell_type": "code",
   "execution_count": 153,
   "metadata": {
    "collapsed": false
   },
   "outputs": [
    {
     "name": "stdout",
     "output_type": "stream",
     "text": [
      "-5.01457329074e+23\n"
     ]
    }
   ],
   "source": [
    "x_train, x_test, y_train, y_test = cross_validation.train_test_split(x, y, test_size = 0.2)\n",
    "\n",
    "clf = LinearRegression()\n",
    "clf.fit(x_train, y_train)\n",
    "accuracy = clf.score(x_test, y_test)\n",
    "print(accuracy) # directional accuracy"
   ]
  }
 ],
 "metadata": {
  "kernelspec": {
   "display_name": "Python 3",
   "language": "python",
   "name": "python3"
  },
  "language_info": {
   "codemirror_mode": {
    "name": "ipython",
    "version": 3
   },
   "file_extension": ".py",
   "mimetype": "text/x-python",
   "name": "python",
   "nbconvert_exporter": "python",
   "pygments_lexer": "ipython3",
   "version": "3.5.2"
  }
 },
 "nbformat": 4,
 "nbformat_minor": 0
}
