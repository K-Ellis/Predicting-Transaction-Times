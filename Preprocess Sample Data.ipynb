{
 "cells": [
  {
   "cell_type": "code",
   "execution_count": 5,
   "metadata": {
    "collapsed": true
   },
   "outputs": [],
   "source": [
    "import pandas as pd\n",
    "import numpy as np"
   ]
  },
  {
   "cell_type": "code",
   "execution_count": 6,
   "metadata": {
    "collapsed": false,
    "scrolled": true
   },
   "outputs": [],
   "source": [
    "df = pd.read_csv(\"MSc_Bus_Analytics_VL_COSMIC_Sample_20170330 (1).csv\",encoding='latin-1')\n",
    "del df[\"TicketNumber\"] \n",
    "del df[\"Created_On\"] \n",
    "# del df[\"Queue\"] \n",
    "del df[\"BusinessFunction\"] \n",
    "del df[\"LineOfBusiness\"] \n",
    "del df[\"CaseType\"] \n",
    "del df[\"CaseSubTypes\"] \n",
    "del df[\"IsEscalated\"] \n",
    "del df[\"IsSOXCase\"] \n",
    "del df[\"Priority\"] \n",
    "del df[\"StatusReason\"] \n",
    "del df[\"ValidCase\"] \n",
    "del df[\"SubReason\"] \n",
    "del df[\"ROCName\"] \n",
    "del df[\"CountrySource\"] \n",
    "del df[\"SalesLocation\"] \n",
    "del df[\"RejectionReason\"] \n",
    "\n",
    "df.dropna(inplace=True)\n",
    "\n",
    "# get y\n",
    "df[\"Receiveddate\"] = pd.to_datetime(df[\"Receiveddate\"])\n",
    "df[\"ResolvedDate\"] = pd.to_datetime(df[\"ResolvedDate\"])\n",
    "y = pd.DataFrame()\n",
    "y[\"time_to_complete\"] = (df[\"ResolvedDate\"] - df[\"Receiveddate\"]).astype('timedelta64[m]')\n",
    "del df[\"Receiveddate\"] \n",
    "del df[\"ResolvedDate\"] \n",
    "\n",
    "# # get x\n",
    "# x = pd.DataFrame()\n",
    "# for col in list(df):\n",
    "#     dummies = pd.get_dummies(df[col]).iloc[:, 1:]\n",
    "#     x = pd.concat([x, dummies], axis = 1)\n",
    "    \n",
    "df = pd.concat([df, y], axis = 1)"
   ]
  },
  {
   "cell_type": "code",
   "execution_count": 8,
   "metadata": {
    "collapsed": false
   },
   "outputs": [
    {
     "data": {
      "text/plain": [
       "['Queue',\n",
       " 'RevenuType',\n",
       " 'Program',\n",
       " 'Reason',\n",
       " 'CountryProcessed',\n",
       " 'time_to_complete']"
      ]
     },
     "execution_count": 8,
     "metadata": {},
     "output_type": "execute_result"
    }
   ],
   "source": [
    "list(df)"
   ]
  },
  {
   "cell_type": "code",
   "execution_count": 10,
   "metadata": {
    "collapsed": false
   },
   "outputs": [],
   "source": [
    "# list(df)\n",
    "df.to_csv(\"SampleData3_moreInstances.csv\", index = False)"
   ]
  }
 ],
 "metadata": {
  "kernelspec": {
   "display_name": "Python 3",
   "language": "python",
   "name": "python3"
  },
  "language_info": {
   "codemirror_mode": {
    "name": "ipython",
    "version": 3
   },
   "file_extension": ".py",
   "mimetype": "text/x-python",
   "name": "python",
   "nbconvert_exporter": "python",
   "pygments_lexer": "ipython3",
   "version": "3.5.2"
  }
 },
 "nbformat": 4,
 "nbformat_minor": 0
}
